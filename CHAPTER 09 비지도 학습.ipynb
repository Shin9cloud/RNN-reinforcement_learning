{
 "cells": [
  {
   "cell_type": "markdown",
   "id": "d2612406",
   "metadata": {},
   "source": [
    "### SECTION.01 2차원 입력 데이터"
   ]
  },
  {
   "cell_type": "code",
   "execution_count": 167,
   "id": "e0e8ab93",
   "metadata": {
    "scrolled": true
   },
   "outputs": [
    {
     "data": {
      "image/png": "[encoded data removed]",
      "text/plain": [
       "<Figure size 288x288 with 1 Axes>"
      ]
     },
     "metadata": {
      "needs_background": "light"
     },
     "output_type": "display_data"
    }
   ],
   "source": [
    "# -------------------- 리스트 9-1-(1)\n",
    "import numpy as np\n",
    "import matplotlib.pyplot as plt\n",
    "%matplotlib inline\n",
    "\n",
    "# 데이터 생성 ---------------------------\n",
    "np.random.seed(1)\n",
    "N = 100\n",
    "K = 3\n",
    "T3 = np.zeros((N, 3), dtype=np.uint8) ## np.uint8 - 0 ~ 255 양수\n",
    "X = np.zeros((N, 2))\n",
    "X_range0 = [-3, 3]\n",
    "X_range1 = [-3, 3]\n",
    "X_col = ['cornflowerblue','black','white']\n",
    "Mu = np.array([[-.5,-.5],[.5,1.0],[1,-.5]]) #분포의 중심\n",
    "Sig = np.array([[.7,.7],[.8,.3],[.3,.8]]) # 분포의 분산\n",
    "Pi = np.array([0.4, 0.8, 1]) # 누적확률 --> len(Pi) = K\n",
    "for n in range(N): ## 0 ~ 99\n",
    "    wk = np.random.rand() # 만들어진 난수 어레이는 주어진 값에 의해 결정되며, 0,1 범위에서 균일한 분포\n",
    "    for k in range(K): ## 0 ~ 2\n",
    "        if wk < Pi[k]:\n",
    "            T3[n,k] = 1\n",
    "            break\n",
    "    for k in range(2): ## 0 ~ 1\n",
    "        X[n,k] = (np.random.randn() * Sig[T3[n, :] == 1, k]\n",
    "                  + Mu[T3[n, :] == 1, k])\n",
    "#         print(Sig[T3[n, :] == 1, k])\n",
    "#         T3[n, :] == 1 는 T3의 bull 함수 반환 __ 인덱싱을 하면 true인 곳을 숫자로 반환\n",
    "#         X[n,k] = (np.random.randn() * Sig[0, k])\n",
    "#         print(Sig[T3[n, :] == 1, k] + Mu[T3[n, :] == 1, k])\n",
    "#         print(np.ndarray(X[n,k]))\n",
    "#         print(Mu[T3[n, :] == 1, k])\n",
    "\n",
    "# 데이터를 그리기 -----------------------------------------\n",
    "def show_data(x):\n",
    "    plt.plot(x[:,0],x[:,1], linestyle='none', # 선모양\n",
    "            marker = 'o' , markersize = 6, #마커모양, 마커사이즈\n",
    "            markeredgecolor = 'black', color = 'gray', alpha =0.8) # 마커테두리, 마커색, 마커투명도\n",
    "    plt.grid(True) # 격자 표시 ON\n",
    "# T3\n",
    "# X\n",
    "# show_data(X)\n",
    "\n",
    "# 메인 ------------------------------------------------\n",
    "plt.figure(1, figsize=(4,4)) ## 차트의 크기 설정\n",
    "show_data(X) ## 함수에 데이터 집어넣기\n",
    "plt.xlim(X_range0) ## X축 범위 설정\n",
    "plt.ylim(X_range1) ## X축 범위 설정\n",
    "plt.show() ## 차트 띄우는 명령\n",
    "np.savez('data_ch9.npz', X=X , X_range0 = X_range0, ##여러개의 배열을 1개의 압축되지 않은 *.npz 포맷 파일로 저장하기\n",
    "        X_range1 = X_range1) # 매개변수도 저장해주기\n",
    "# a = np.load('C:/apps/RNN&reinforcement_learning/data_ch9.npz')\n",
    "# print(a)"
   ]
  },
  {
   "cell_type": "code",
   "execution_count": 143,
   "id": "105dcc14",
   "metadata": {},
   "outputs": [],
   "source": [
    "# for n in range(N):\n",
    "#     wk = np.random.rand()\n",
    "#     for k in range(K):\n",
    "#         if wk < Pi[k]:\n",
    "#             T3[n,k] = 1\n",
    "#             print(f'Pi[{K}] : {Pi[k]}, T3[{n},{k}] : {T3[n,k]}')\n",
    "#             break\n",
    "#     for k in range(2):\n",
    "#         X[n,k] = (np.random.randn() * Sig[T3[n, : ]== 1, k] + Mu[T3[n,:]== 1, k])\n",
    "#         print(f'np.random.randn() : {np.random.randn()} \\n, Sig[T3{n,:},{k}] : \\n{Sig[T3[n,:]]} \\n, Mu[T3]{n,:},{k} : {Mu[T3[n,:]],k}')\n",
    "#         print(f'X[{n},{k}] : {X[n,k]}\\n')"
   ]
  },
  {
   "cell_type": "code",
   "execution_count": 144,
   "id": "727b6570",
   "metadata": {},
   "outputs": [],
   "source": [
    "# import numpy as np\n",
    "# import matplotlib.pyplot as plt\n",
    "# %matplotlib inline\n",
    "# np.random.seed(1)\n",
    "# N = 100\n",
    "# K = 3\n",
    "# T3 = np.zeros((N, 3), dtype = np.uint8)\n",
    "# print(T3.shape)\n",
    "# X = np.zeros((N, 2))\n",
    "# print(X.shape)\n",
    "# print()\n",
    "# X_range0 = [-3, 3]\n",
    "# X_range1 = [-3, 3]\n",
    "# X_col = ['cornflowerblue' ,'black' , 'white']\n",
    "# Mu = np.array([[-.5, -.5], [.5, 1.0], [1, -.5]]) # 분포의 중심 #클러스터 중심\n",
    "# Sig = np.array([[.7, .7], [.8, .3], [.3, .8]]) # 분포의 분산 # 클러스터 분산\n",
    "# Pi = np.array([0.4 , 0.8, 1])\n",
    "# for n in range(N):\n",
    "#     wk = np.random.rand()\n",
    "#     for k in range(K):# 0,1,2\n",
    "#         if wk < Pi[k]: # 데이터에 해당하는 랜덤난수가 pi보다 작으면 1\n",
    "#             T3[n, k] = 1\n",
    "#             print()\n",
    "#             print(\"n:{}, cluster:{}\".format(n,k))\n",
    "#             break\n",
    "#     print(\"T3:\",T3[n,])\n",
    "#     for k in range(2): # 0,1\n",
    "#         X[n, k] = (np.random.randn() * Sig[T3[n, :] == 1, k] # t3값 1에 해당하는 index 그 index값의 0,1값\n",
    "#                    + Mu[T3[n, :] == 1, k])\n",
    "#         print(\"rand:{} * Sig:{} + Mu:{}\".format((X[n, k] - Mu[T3[n, :] == 1, k]) / Sig[T3[n, :] == 1, k],\n",
    "#                                                 Sig[T3[n, :] == 1, k],\n",
    "#                                                 Mu[T3[n, :] == 1, k]))\n",
    "#         print(\"X[{},{}]\".format(n,k),X[n, k])"
   ]
  },
  {
   "cell_type": "markdown",
   "id": "d60420f6",
   "metadata": {},
   "source": [
    "### SECTION.02 K-means 기법"
   ]
  },
  {
   "cell_type": "code",
   "execution_count": null,
   "id": "1c431949",
   "metadata": {},
   "outputs": [],
   "source": [
    "# -------------------- 리스트 9-1-(3)\n",
    "# 데이터 그리는 함수\n",
    "def show_prm(x, r, mu, col):\n",
    "    for k in range(K):\n",
    "        # 데이터 분포 묘사하기"
   ]
  },
  {
   "cell_type": "code",
   "execution_count": 136,
   "id": "f3fe7905",
   "metadata": {},
   "outputs": [
    {
     "data": {
      "image/png": "[encoded data removed]",
      "text/plain": [
       "<Figure size 288x288 with 1 Axes>"
      ]
     },
     "metadata": {
      "needs_background": "light"
     },
     "output_type": "display_data"
    }
   ],
   "source": [
    "# -------------------- 리스트 9-1-(3)\n",
    "# 데이터 그리는 함수\n",
    "def show_prm(x, r, mu, col):\n",
    "    for k in range(K):\n",
    "        # 데이터 분포 묘사하기\n",
    "        plt.plot(x[r[:, k] == 1, 0], x[r[:, k] == 1, 1],\n",
    "                marker = 'o', markerfacecolor = X_col[k], markeredgecolor='k',\n",
    "                markersize = 6, alpha = 0.5, linestyle = 'none')\n",
    "        # 데이터의 평균을 '별표'로 묘사하기\n",
    "        plt.plot(mu[k, 0], mu[k, 1], marker = '*',\n",
    "                markerfacecolor = X_col[k], markersize = 15,\n",
    "                markeredgecolor = 'k', markeredgewidth = 1)\n",
    "    plt.xlim(X_range0)\n",
    "    plt.ylim(X_range1)\n",
    "    plt.grid(True)\n",
    "plt.figure(figsize=(4,4))\n",
    "R = np.c_[np.ones((N,1)), np.zeros((N, 2))]\n",
    "show_prm(X, R, Mu, X_col)\n",
    "plt.title('initial Mu and R')\n",
    "plt.show()"
   ]
  }
 ],
 "metadata": {
  "kernelspec": {
   "display_name": "Python 3",
   "language": "python",
   "name": "python3"
  },
  "language_info": {
   "codemirror_mode": {
    "name": "ipython",
    "version": 3
   },
   "file_extension": ".py",
   "mimetype": "text/x-python",
   "name": "python",
   "nbconvert_exporter": "python",
   "pygments_lexer": "ipython3",
   "version": "3.8.9"
  }
 },
 "nbformat": 4,
 "nbformat_minor": 5
}

{
 "cells": [
  {
   "cell_type": "markdown",
   "id": "ca5d3aef",
   "metadata": {},
   "source": [
    "### 16.2 시퀀스 모델링을 위한 RNN"
   ]
  },
  {
   "cell_type": "code",
   "execution_count": 1,
   "id": "f7e5cf84",
   "metadata": {},
   "outputs": [
    {
     "name": "stdout",
     "output_type": "stream",
     "text": [
      "W_xh 크기: (5, 2)\n",
      "W_oo 크기: (2, 2)\n",
      "b_h 크기: (2,)\n"
     ]
    }
   ],
   "source": [
    "import tensorflow as tf\n",
    "tf.random.set_seed(1)\n",
    "rnn_layer = tf.keras.layers.SimpleRNN(\n",
    "    units =2, use_bias=True,\n",
    "    return_sequences=True)\n",
    "rnn_layer.build(input_shape=(None, None, 5))\n",
    "w_xh, w_oo, b_h = rnn_layer.weights\n",
    "print('W_xh 크기:', w_xh.shape)\n",
    "print('W_oo 크기:', w_oo.shape)\n",
    "print('b_h 크기:', b_h.shape)"
   ]
  },
  {
   "cell_type": "code",
   "execution_count": 2,
   "id": "cf963f58",
   "metadata": {},
   "outputs": [
    {
     "name": "stdout",
     "output_type": "stream",
     "text": [
      "타임 스텝 0 =>\n",
      "    입력           : [[1. 1. 1. 1. 1.]]\n",
      "    은닉           : [[0.41464037 0.96012145]]\n",
      "    출력 (수동)     : [[0.39240566 0.74433106]]\n",
      "    SimpleRNN  출력 : [0.39240566 0.74433106]\n",
      "\n",
      "타임 스텝 1 =>\n",
      "    입력           : [[2. 2. 2. 2. 2.]]\n",
      "    은닉           : [[0.82928073 1.9202429 ]]\n",
      "    출력 (수동)     : [[0.80116504 0.9912947 ]]\n",
      "    SimpleRNN  출력 : [0.80116504 0.9912947 ]\n",
      "\n",
      "타임 스텝 2 =>\n",
      "    입력           : [[3. 3. 3. 3. 3.]]\n",
      "    은닉           : [[1.243921  2.8803642]]\n",
      "    출력 (수동)     : [[0.95468265 0.9993069 ]]\n",
      "    SimpleRNN  출력 : [0.95468265 0.9993069 ]\n",
      "\n"
     ]
    }
   ],
   "source": [
    "x_seq = tf.convert_to_tensor(\n",
    "    [[1.0]*5, [2.0]*5, [3.0]*5],\n",
    "    dtype=tf.float32)\n",
    "## SimpoleRNN의 출력:\n",
    "output = rnn_layer(tf.reshape(x_seq, shape=(1,3,5)))\n",
    "## 수동으로 출력 계산하기:\n",
    "out_man = []\n",
    "for t in range(len(x_seq)):\n",
    "    xt = tf.reshape(x_seq[t], (1, 5))\n",
    "    print('타임 스텝 {} =>'.format(t))\n",
    "    print('    입력           :', xt.numpy())\n",
    "    \n",
    "    ht = tf.matmul(xt, w_xh) + b_h\n",
    "    print('    은닉           :', ht.numpy())\n",
    "    \n",
    "    if t>0:\n",
    "        prev_o = out_man[t-1]\n",
    "    else:\n",
    "        prev_o = tf.zeros(shape=(ht.shape))\n",
    "    ot = ht + tf.matmul(prev_o, w_oo)\n",
    "    ot = tf.math.tanh(ot)\n",
    "    out_man.append(ot)\n",
    "    print('    출력 (수동)     :', ot.numpy())\n",
    "    print('    SimpleRNN  출력 :'.format(t),\n",
    "          output[0][t].numpy())\n",
    "    print()"
   ]
  },
  {
   "cell_type": "markdown",
   "id": "5b1fe288",
   "metadata": {},
   "source": [
    "### 16.3 텐서플로로 시퀀스 모델링을 위한 RNN 구현"
   ]
  },
  {
   "cell_type": "code",
   "execution_count": 31,
   "id": "e7f02ac7",
   "metadata": {},
   "outputs": [
    {
     "name": "stdout",
     "output_type": "stream",
     "text": [
      "Requirement already satisfied: tensorflow_datasets in c:\\users\\ad\\appdata\\local\\programs\\python\\python38\\lib\\site-packages (4.3.0)\n",
      "Requirement already satisfied: absl-py in c:\\users\\ad\\appdata\\local\\programs\\python\\python38\\lib\\site-packages (from tensorflow_datasets) (0.12.0)\n",
      "Requirement already satisfied: tqdm in c:\\users\\ad\\appdata\\local\\programs\\python\\python38\\lib\\site-packages (from tensorflow_datasets) (4.60.0)\n",
      "Requirement already satisfied: numpy in c:\\users\\ad\\appdata\\local\\programs\\python\\python38\\lib\\site-packages (from tensorflow_datasets) (1.19.5)\n",
      "Requirement already satisfied: attrs>=18.1.0 in c:\\users\\ad\\appdata\\local\\programs\\python\\python38\\lib\\site-packages (from tensorflow_datasets) (20.3.0)\n",
      "Requirement already satisfied: dill in c:\\users\\ad\\appdata\\local\\programs\\python\\python38\\lib\\site-packages (from tensorflow_datasets) (0.3.3)\n",
      "Requirement already satisfied: importlib-resources in c:\\users\\ad\\appdata\\local\\programs\\python\\python38\\lib\\site-packages (from tensorflow_datasets) (5.1.4)\n",
      "Requirement already satisfied: tensorflow-metadata in c:\\users\\ad\\appdata\\local\\programs\\python\\python38\\lib\\site-packages (from tensorflow_datasets) (1.0.0)\n",
      "Requirement already satisfied: requests>=2.19.0 in c:\\users\\ad\\appdata\\local\\programs\\python\\python38\\lib\\site-packages (from tensorflow_datasets) (2.25.1)\n",
      "Requirement already satisfied: future in c:\\users\\ad\\appdata\\local\\programs\\python\\python38\\lib\\site-packages (from tensorflow_datasets) (0.18.2)\n",
      "Requirement already satisfied: promise in c:\\users\\ad\\appdata\\local\\programs\\python\\python38\\lib\\site-packages (from tensorflow_datasets) (2.3)\n",
      "Requirement already satisfied: six in c:\\users\\ad\\appdata\\local\\programs\\python\\python38\\lib\\site-packages (from tensorflow_datasets) (1.15.0)\n",
      "Requirement already satisfied: termcolor in c:\\users\\ad\\appdata\\local\\programs\\python\\python38\\lib\\site-packages (from tensorflow_datasets) (1.1.0)\n",
      "Requirement already satisfied: protobuf>=3.12.2 in c:\\users\\ad\\appdata\\local\\programs\\python\\python38\\lib\\site-packages (from tensorflow_datasets) (3.16.0)\n",
      "Requirement already satisfied: chardet<5,>=3.0.2 in c:\\users\\ad\\appdata\\local\\programs\\python\\python38\\lib\\site-packages (from requests>=2.19.0->tensorflow_datasets) (4.0.0)\n",
      "Requirement already satisfied: idna<3,>=2.5 in c:\\users\\ad\\appdata\\local\\programs\\python\\python38\\lib\\site-packages (from requests>=2.19.0->tensorflow_datasets) (2.10)\n",
      "Requirement already satisfied: certifi>=2017.4.17 in c:\\users\\ad\\appdata\\local\\programs\\python\\python38\\lib\\site-packages (from requests>=2.19.0->tensorflow_datasets) (2020.12.5)\n",
      "Requirement already satisfied: urllib3<1.27,>=1.21.1 in c:\\users\\ad\\appdata\\local\\programs\\python\\python38\\lib\\site-packages (from requests>=2.19.0->tensorflow_datasets) (1.26.4)\n",
      "Requirement already satisfied: zipp>=3.1.0 in c:\\users\\ad\\appdata\\local\\programs\\python\\python38\\lib\\site-packages (from importlib-resources->tensorflow_datasets) (3.4.1)\n",
      "Requirement already satisfied: googleapis-common-protos<2,>=1.52.0 in c:\\users\\ad\\appdata\\local\\programs\\python\\python38\\lib\\site-packages (from tensorflow-metadata->tensorflow_datasets) (1.53.0)\n"
     ]
    },
    {
     "name": "stderr",
     "output_type": "stream",
     "text": [
      "WARNING: You are using pip version 21.1.1; however, version 21.1.2 is available.\n",
      "You should consider upgrading via the 'c:\\users\\ad\\appdata\\local\\programs\\python\\python38\\python.exe -m pip install --upgrade pip' command.\n"
     ]
    }
   ],
   "source": [
    "!pip install tensorflow_datasets"
   ]
  },
  {
   "cell_type": "code",
   "execution_count": 3,
   "id": "28fc8552",
   "metadata": {
    "scrolled": false
   },
   "outputs": [
    {
     "data": {
      "text/html": [
       "<div>\n",
       "<style scoped>\n",
       "    .dataframe tbody tr th:only-of-type {\n",
       "        vertical-align: middle;\n",
       "    }\n",
       "\n",
       "    .dataframe tbody tr th {\n",
       "        vertical-align: top;\n",
       "    }\n",
       "\n",
       "    .dataframe thead th {\n",
       "        text-align: right;\n",
       "    }\n",
       "</style>\n",
       "<table border=\"1\" class=\"dataframe\">\n",
       "  <thead>\n",
       "    <tr style=\"text-align: right;\">\n",
       "      <th></th>\n",
       "      <th>review</th>\n",
       "      <th>sentiment</th>\n",
       "    </tr>\n",
       "  </thead>\n",
       "  <tbody>\n",
       "    <tr>\n",
       "      <th>0</th>\n",
       "      <td>In 1974, the teenager Martha Moxley (Maggie Gr...</td>\n",
       "      <td>1</td>\n",
       "    </tr>\n",
       "    <tr>\n",
       "      <th>1</th>\n",
       "      <td>OK... so... I really like Kris Kristofferson a...</td>\n",
       "      <td>0</td>\n",
       "    </tr>\n",
       "    <tr>\n",
       "      <th>2</th>\n",
       "      <td>***SPOILER*** Do not read this, if you think a...</td>\n",
       "      <td>0</td>\n",
       "    </tr>\n",
       "    <tr>\n",
       "      <th>3</th>\n",
       "      <td>hi for all the people who have seen this wonde...</td>\n",
       "      <td>1</td>\n",
       "    </tr>\n",
       "    <tr>\n",
       "      <th>4</th>\n",
       "      <td>I recently bought the DVD, forgetting just how...</td>\n",
       "      <td>0</td>\n",
       "    </tr>\n",
       "  </tbody>\n",
       "</table>\n",
       "</div>"
      ],
      "text/plain": [
       "                                              review  sentiment\n",
       "0  In 1974, the teenager Martha Moxley (Maggie Gr...          1\n",
       "1  OK... so... I really like Kris Kristofferson a...          0\n",
       "2  ***SPOILER*** Do not read this, if you think a...          0\n",
       "3  hi for all the people who have seen this wonde...          1\n",
       "4  I recently bought the DVD, forgetting just how...          0"
      ]
     },
     "execution_count": 3,
     "metadata": {},
     "output_type": "execute_result"
    }
   ],
   "source": [
    "import tensorflow as tf\n",
    "import tensorflow_datasets as tfds\n",
    "import numpy as np\n",
    "import pandas as pd\n",
    "df = pd.read_csv('./movie_data.csv.gz', encoding = 'utf-8')\n",
    "df.head()"
   ]
  },
  {
   "cell_type": "code",
   "execution_count": 4,
   "id": "c47ef403",
   "metadata": {
    "scrolled": true
   },
   "outputs": [
    {
     "name": "stdout",
     "output_type": "stream",
     "text": [
      "b'In 1974, the teenager Martha Moxley (Maggie Grace)' 1\n",
      "b'OK... so... I really like Kris Kristofferson and h' 0\n",
      "b'***SPOILER*** Do not read this, if you think about' 0\n"
     ]
    }
   ],
   "source": [
    "## 1단계: 데이터셋 만들기\n",
    "target = df.pop('sentiment')\n",
    "ds_raw = tf.data.Dataset.from_tensor_slices(\n",
    "    (df.values, target.values))\n",
    "## 확인:\n",
    "for ex in ds_raw.take(3):\n",
    "    tf.print(ex[0].numpy()[0][ :50], ex[1])"
   ]
  },
  {
   "cell_type": "code",
   "execution_count": 5,
   "id": "84c888fe",
   "metadata": {},
   "outputs": [],
   "source": [
    "tf.random.set_seed(1)\n",
    "ds_raw = ds_raw.shuffle(\n",
    "    50000, reshuffle_each_iteration=False)\n",
    "ds_raw_test = ds_raw.take(25000)\n",
    "ds_raw_train_valid = ds_raw.skip(25000)\n",
    "ds_raw_train = ds_raw_train_valid.take(20000)\n",
    "ds_raw_valid = ds_raw_train_valid.skip(20000)"
   ]
  },
  {
   "cell_type": "code",
   "execution_count": 6,
   "id": "d12eb3e3",
   "metadata": {
    "scrolled": true
   },
   "outputs": [
    {
     "name": "stdout",
     "output_type": "stream",
     "text": [
      "어휘 사전 크기: 87007\n"
     ]
    }
   ],
   "source": [
    "## 2단계: 고유 토큰 (단어) 찾기\n",
    "from collections import Counter\n",
    "tokenizer = tfds.deprecated.text.Tokenizer()\n",
    "token_counts = Counter()\n",
    "for example in ds_raw_train:\n",
    "    tokens = tokenizer.tokenize(example[0].numpy()[0])\n",
    "    token_counts.update(tokens)\n",
    "print('어휘 사전 크기:', len(token_counts))"
   ]
  },
  {
   "cell_type": "code",
   "execution_count": 7,
   "id": "d2504338",
   "metadata": {},
   "outputs": [],
   "source": [
    "# 63장 모듈에러\n",
    "# ##2ST Find token\n",
    "# from collections import Counter\n",
    "# tokenizer = tfds.features.text.Tokenizer()\n",
    "# token_counts = Counter()\n",
    "# for example in ds_raw_train:\n",
    "#     tokens = tokenizer.tokenize(example[0].numpy()[0])\n",
    "#     token_counts.update(tokens)\n",
    "# print(f'어휘 사전 크기 : {len(token_counts)}')"
   ]
  },
  {
   "cell_type": "code",
   "execution_count": 8,
   "id": "88a047fe",
   "metadata": {
    "scrolled": true
   },
   "outputs": [
    {
     "name": "stdout",
     "output_type": "stream",
     "text": [
      "[232, 9, 270, 1123]\n"
     ]
    }
   ],
   "source": [
    "## 3단계: 고유 토큰을 정수로 인코딩하기\n",
    "encoder = tfds.deprecated.text.TokenTextEncoder(token_counts)\n",
    "example_str = 'This is an example!'\n",
    "print(encoder.encode(example_str))"
   ]
  },
  {
   "cell_type": "code",
   "execution_count": 9,
   "id": "1684bea9",
   "metadata": {},
   "outputs": [],
   "source": [
    "# 63장 모듈에러\n",
    "# ##3ST 고유토큰을 정수로 인코딩하기\n",
    "# encoder = tfds.features.text.TokenTextEncoder(token_counts)\n",
    "# example_str = 'This is an example'\n",
    "# print(f'{encoder.encode(example_str)}')"
   ]
  },
  {
   "cell_type": "code",
   "execution_count": 10,
   "id": "9ceb9af9",
   "metadata": {},
   "outputs": [],
   "source": [
    "## 3-A단계: 변환을 위한 함수 정의\n",
    "def encode(text_tensor, label):\n",
    "    text = text_tensor.numpy()[0]\n",
    "    encoded_text = encoder.encode(text)\n",
    "    return encoded_text, label"
   ]
  },
  {
   "cell_type": "code",
   "execution_count": 11,
   "id": "3862be35",
   "metadata": {
    "scrolled": true
   },
   "outputs": [
    {
     "name": "stdout",
     "output_type": "stream",
     "text": [
      "시퀀스 길이: (24,)\n",
      "시퀀스 길이: (179,)\n",
      "시퀀스 길이: (262,)\n",
      "시퀀스 길이: (535,)\n",
      "시퀀스 길이: (130,)\n"
     ]
    }
   ],
   "source": [
    "## 3-B단계: 함수를 TF 연산으로 변환하기\n",
    "def encode_map_fn(text, label):\n",
    "    return tf.py_function(encode, inp = [text, label],\n",
    "                          Tout = (tf.int64, tf.int64))\n",
    "ds_train = ds_raw_train.map(encode_map_fn)\n",
    "ds_valid = ds_raw_valid.map(encode_map_fn)\n",
    "ds_test = ds_raw_test.map(encode_map_fn)\n",
    "# 샘플의 크기 확인하기:\n",
    "tf.random.set_seed(1)\n",
    "for example in ds_train.shuffle(1000).take(5):\n",
    "    print('시퀀스 길이:', example[0].shape)"
   ]
  },
  {
   "cell_type": "code",
   "execution_count": 12,
   "id": "5502fed3",
   "metadata": {},
   "outputs": [],
   "source": [
    "train_data = ds_train.padded_batch(\n",
    "    32, padded_shapes=([-1],[]))\n",
    "valid_data = ds_valid.padded_batch(\n",
    "    32, padded_shapes=([-1],[]))\n",
    "test_data = ds_test.padded_batch(\n",
    "    32, padded_shapes=([-1],[]))"
   ]
  },
  {
   "cell_type": "code",
   "execution_count": 13,
   "id": "62f483d4",
   "metadata": {
    "scrolled": true
   },
   "outputs": [
    {
     "name": "stdout",
     "output_type": "stream",
     "text": [
      "Model: \"sequential\"\n",
      "_________________________________________________________________\n",
      "Layer (type)                 Output Shape              Param #   \n",
      "=================================================================\n",
      "embed-layer (Embedding)      (None, 20, 6)             600       \n",
      "=================================================================\n",
      "Total params: 600\n",
      "Trainable params: 600\n",
      "Non-trainable params: 0\n",
      "_________________________________________________________________\n"
     ]
    }
   ],
   "source": [
    "from tensorflow.keras.layers import Embedding\n",
    "model = tf.keras.Sequential()\n",
    "model.add(Embedding(input_dim = 100,\n",
    "                    output_dim = 6,\n",
    "                    input_length=20,\n",
    "                    name='embed-layer'))\n",
    "model.summary()"
   ]
  },
  {
   "cell_type": "code",
   "execution_count": 14,
   "id": "b11ae173",
   "metadata": {},
   "outputs": [],
   "source": [
    "from tensorflow.keras import Sequential\n",
    "from tensorflow.keras.layers import Embedding\n",
    "from tensorflow.keras.layers import SimpleRNN\n",
    "from tensorflow.keras.layers import Dense"
   ]
  },
  {
   "cell_type": "code",
   "execution_count": 15,
   "id": "5eed00e1",
   "metadata": {},
   "outputs": [
    {
     "name": "stdout",
     "output_type": "stream",
     "text": [
      "Model: \"sequential_1\"\n",
      "_________________________________________________________________\n",
      "Layer (type)                 Output Shape              Param #   \n",
      "=================================================================\n",
      "embedding (Embedding)        (None, None, 32)          32000     \n",
      "_________________________________________________________________\n",
      "simple_rnn_1 (SimpleRNN)     (None, None, 32)          2080      \n",
      "_________________________________________________________________\n",
      "simple_rnn_2 (SimpleRNN)     (None, 32)                2080      \n",
      "_________________________________________________________________\n",
      "dense (Dense)                (None, 1)                 33        \n",
      "=================================================================\n",
      "Total params: 36,193\n",
      "Trainable params: 36,193\n",
      "Non-trainable params: 0\n",
      "_________________________________________________________________\n"
     ]
    }
   ],
   "source": [
    "model = Sequential()\n",
    "model.add(Embedding(input_dim = 1000, output_dim = 32))\n",
    "model.add(SimpleRNN(32, return_sequences = True))\n",
    "model.add(SimpleRNN(32))\n",
    "model.add(Dense(1))\n",
    "model.summary()"
   ]
  },
  {
   "cell_type": "code",
   "execution_count": null,
   "id": "d4dd71f1",
   "metadata": {
    "scrolled": true
   },
   "outputs": [
    {
     "name": "stdout",
     "output_type": "stream",
     "text": [
      "Model: \"sequential_2\"\n",
      "_________________________________________________________________\n",
      "Layer (type)                 Output Shape              Param #   \n",
      "=================================================================\n",
      "embed-layer (Embedding)      (None, None, 20)          1740180   \n",
      "_________________________________________________________________\n",
      "bidir-lstm (Bidirectional)   (None, 128)               43520     \n",
      "_________________________________________________________________\n",
      "dense_1 (Dense)              (None, 64)                8256      \n",
      "_________________________________________________________________\n",
      "dense_2 (Dense)              (None, 1)                 65        \n",
      "=================================================================\n",
      "Total params: 1,792,021\n",
      "Trainable params: 1,792,021\n",
      "Non-trainable params: 0\n",
      "_________________________________________________________________\n",
      "Epoch 1/10\n",
      "625/625 [==============================] - 186s 292ms/step - loss: 0.6116 - accuracy: 0.6309 - val_loss: 0.4108 - val_accuracy: 0.8130\n",
      "Epoch 2/10\n",
      "625/625 [==============================] - 167s 267ms/step - loss: 0.2795 - accuracy: 0.8900 - val_loss: 0.3718 - val_accuracy: 0.8416\n",
      "Epoch 3/10\n",
      "625/625 [==============================] - 173s 276ms/step - loss: 0.1757 - accuracy: 0.9394 - val_loss: 0.5471 - val_accuracy: 0.7574\n",
      "Epoch 4/10\n",
      "625/625 [==============================] - 274s 438ms/step - loss: 0.1467 - accuracy: 0.9452 - val_loss: 0.7091 - val_accuracy: 0.8268\n",
      "Epoch 5/10\n",
      "625/625 [==============================] - 175s 280ms/step - loss: 0.0909 - accuracy: 0.9703 - val_loss: 0.5899 - val_accuracy: 0.8346\n",
      "Epoch 6/10\n",
      " 55/625 [=>............................] - ETA: 2:38 - loss: 0.0711 - accuracy: 0.9736"
     ]
    }
   ],
   "source": [
    "embedding_dim = 20\n",
    "vocab_size = len(token_counts) +2\n",
    "tf.random.set_seed(1)\n",
    "## 모델 만들기\n",
    "bi_lstm_model = tf.keras.Sequential([\n",
    "    tf.keras.layers.Embedding(\n",
    "        input_dim = vocab_size,\n",
    "        output_dim = embedding_dim,\n",
    "        name = 'embed-layer'),\n",
    "    \n",
    "        tf.keras.layers.Bidirectional(\n",
    "            tf.keras.layers.LSTM(64, name='lstm-layer'),\n",
    "            name='bidir-lstm'),\n",
    "\n",
    "        tf.keras.layers.Dense(64, activation = 'relu'),\n",
    "\n",
    "        tf.keras.layers.Dense(1, activation = 'sigmoid')\n",
    "])\n",
    "bi_lstm_model.summary()\n",
    "## 컴파일과 훈련\n",
    "bi_lstm_model.compile(\n",
    "    optimizer = tf.keras.optimizers.Adam(1e-3),\n",
    "    loss = tf.keras.losses.BinaryCrossentropy(from_logits=False),\n",
    "    metrics=['accuracy'])\n",
    "history = bi_lstm_model.fit(\n",
    "    train_data,\n",
    "    validation_data= valid_data,\n",
    "    epochs = 10)\n",
    "## 테스트 데이터에서 평가\n",
    "test_results = bi_lstm_model.evaluate(test_data)\n",
    "print('테스트 정확도: {:.2f}%'.format(test_results[1]*100))"
   ]
  },
  {
   "cell_type": "code",
   "execution_count": null,
   "id": "74674c99",
   "metadata": {},
   "outputs": [],
   "source": [
    "from collections import Counter\n",
    "def preprocess_datasets(\n",
    "    ds_raw_train,\n",
    "    ds_raw_valid,\n",
    "    ds_raw_test,\n",
    "    max_seq_length=None,\n",
    "    batch_size = 32):\n",
    "    \n",
    "    ## 1단계: (데이터셋 만들기 이미 완료)\n",
    "    ## 2단계: 고유 토큰 찾기\n",
    "    tokenizer = tfds.deprecated.text.Tokenizer()\n",
    "    token_counts = Counter()\n",
    "    \n",
    "    for example in ds_raw_train:\n",
    "        tokens = tokenizer.tokenize(example[0].numpy()[0])\n",
    "        if max_seq_length is not None:\n",
    "            tokens = tokens[-max_seq_length:]\n",
    "        token_counts.update(tokens)\n",
    "        \n",
    "    print('어휘 사전 크기:', len(token_counts))\n",
    "    \n",
    "    ## 3단계: 텍스트 인코딩하기\n",
    "    encoder = tfds.deprecated.text.TokenTextEncorder(\n",
    "                  token_counts)\n",
    "    def encode(text_tensor,)"
   ]
  },
  {
   "cell_type": "code",
   "execution_count": null,
   "id": "f3f69361",
   "metadata": {},
   "outputs": [],
   "source": []
  }
 ],
 "metadata": {
  "kernelspec": {
   "display_name": "Python 3",
   "language": "python",
   "name": "python3"
  },
  "language_info": {
   "codemirror_mode": {
    "name": "ipython",
    "version": 3
   },
   "file_extension": ".py",
   "mimetype": "text/x-python",
   "name": "python",
   "nbconvert_exporter": "python",
   "pygments_lexer": "ipython3",
   "version": "3.8.9"
  }
 },
 "nbformat": 4,
 "nbformat_minor": 5
}

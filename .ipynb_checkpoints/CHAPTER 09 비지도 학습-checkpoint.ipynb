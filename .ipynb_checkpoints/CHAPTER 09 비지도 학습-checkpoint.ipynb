{
 "cells": [
  {
   "cell_type": "markdown",
   "id": "d2612406",
   "metadata": {},
   "source": [
    "### SECTION.01 2차원 입력 데이터"
   ]
  },
  {
   "cell_type": "code",
   "execution_count": 1,
   "id": "e0e8ab93",
   "metadata": {
    "scrolled": true
   },
   "outputs": [
    {
     "data": {
      "image/png": "[encoded data removed]",
      "text/plain": [
       "<Figure size 288x288 with 1 Axes>"
      ]
     },
     "metadata": {
      "needs_background": "light"
     },
     "output_type": "display_data"
    }
   ],
   "source": [
    "# -------------------- 리스트 9-1-(1)\n",
    "import numpy as np\n",
    "import matplotlib.pyplot as plt\n",
    "%matplotlib inline\n",
    "\n",
    "# 데이터 생성 ---------------------------\n",
    "np.random.seed(1)\n",
    "N = 100\n",
    "K = 3\n",
    "T3 = np.zeros((N, 3), dtype=np.uint8) ## np.uint8 - 0 ~ 255 양수\n",
    "X = np.zeros((N, 2))\n",
    "X_range0 = [-3, 3]\n",
    "X_range1 = [-3, 3]\n",
    "X_col = ['cornflowerblue','black','white']\n",
    "Mu = np.array([[-.5,-.5],[.5,1.0],[1,-.5]]) #분포의 중심\n",
    "Sig = np.array([[.7,.7],[.8,.3],[.3,.8]]) # 분포의 분산\n",
    "Pi = np.array([0.4, 0.8, 1]) # 누적확률 --> len(Pi) = K\n",
    "for n in range(N): ## 0 ~ 99\n",
    "    wk = np.random.rand() # 만들어진 난수 어레이는 주어진 값에 의해 결정되며, 0,1 범위에서 균일한 분포\n",
    "    for k in range(K): ## 0 ~ 2\n",
    "        if wk < Pi[k]:\n",
    "            T3[n,k] = 1\n",
    "            break\n",
    "    for k in range(2): ## 0 ~ 1\n",
    "        X[n,k] = (np.random.randn() * Sig[T3[n, :] == 1, k]\n",
    "                  + Mu[T3[n, :] == 1, k])\n",
    "#         print(Sig[T3[n, :] == 1, k])\n",
    "#         T3[n, :] == 1 는 T3의 bull 함수 반환 __ 인덱싱을 하면 true인 곳을 숫자로 반환\n",
    "#         X[n,k] = (np.random.randn() * Sig[0, k])\n",
    "#         print(Sig[T3[n, :] == 1, k] + Mu[T3[n, :] == 1, k])\n",
    "#         print(np.ndarray(X[n,k]))\n",
    "#         print(Mu[T3[n, :] == 1, k])\n",
    "\n",
    "# 데이터를 그리기 -----------------------------------------\n",
    "def show_data(x):\n",
    "    plt.plot(x[:,0],x[:,1], linestyle='none', # 선모양\n",
    "            marker = 'o' , markersize = 6, #마커모양, 마커사이즈\n",
    "            markeredgecolor = 'black', color = 'gray', alpha =0.8) # 마커테두리, 마커색, 마커투명도\n",
    "    plt.grid(True) # 격자 표시 ON\n",
    "# T3\n",
    "# X\n",
    "# show_data(X)\n",
    "\n",
    "# 메인 ------------------------------------------------\n",
    "plt.figure(1, figsize=(4,4)) ## 차트의 크기 설정\n",
    "show_data(X) ## 함수에 데이터 집어넣기\n",
    "plt.xlim(X_range0) ## X축 범위 설정\n",
    "plt.ylim(X_range1) ## X축 범위 설정\n",
    "plt.show() ## 차트 띄우는 명령\n",
    "np.savez('data_ch9.npz', X=X , X_range0 = X_range0, ##여러개의 배열을 1개의 압축되지 않은 *.npz 포맷 파일로 저장하기\n",
    "        X_range1 = X_range1) # 매개변수도 저장해주기\n",
    "# a = np.load('C:/apps/RNN&reinforcement_learning/data_ch9.npz')\n",
    "# print(a)"
   ]
  },
  {
   "cell_type": "code",
   "execution_count": 2,
   "id": "105dcc14",
   "metadata": {},
   "outputs": [],
   "source": [
    "# for n in range(N):\n",
    "#     wk = np.random.rand()\n",
    "#     for k in range(K):\n",
    "#         if wk < Pi[k]:\n",
    "#             T3[n,k] = 1\n",
    "#             print(f'Pi[{K}] : {Pi[k]}, T3[{n},{k}] : {T3[n,k]}')\n",
    "#             break\n",
    "#     for k in range(2):\n",
    "#         X[n,k] = (np.random.randn() * Sig[T3[n, : ]== 1, k] + Mu[T3[n,:]== 1, k])\n",
    "#         print(f'np.random.randn() : {np.random.randn()} \\n, Sig[T3{n,:},{k}] : \\n{Sig[T3[n,:]]} \\n, Mu[T3]{n,:},{k} : {Mu[T3[n,:]],k}')\n",
    "#         print(f   'X[{n},{k}] : {X[n,k]}\\n')"
   ]
  },
  {
   "cell_type": "code",
   "execution_count": 3,
   "id": "727b6570",
   "metadata": {},
   "outputs": [],
   "source": [
    "# import numpy as np\n",
    "# import matplotlib.pyplot as plt\n",
    "# %matplotlib inline\n",
    "# np.random.seed(1)\n",
    "# N = 100\n",
    "# K = 3\n",
    "# T3 = np.zeros((N, 3), dtype = np.uint8)\n",
    "# print(T3.shape)\n",
    "# X = np.zeros((N, 2))\n",
    "# print(X.shape)\n",
    "# print()\n",
    "# X_range0 = [-3, 3]\n",
    "# X_range1 = [-3, 3]\n",
    "# X_col = ['cornflowerblue' ,'black' , 'white']\n",
    "# Mu = np.array([[-.5, -.5], [.5, 1.0], [1, -.5]]) # 분포의 중심 #클러스터 중심\n",
    "# Sig = np.array([[.7, .7], [.8, .3], [.3, .8]]) # 분포의 분산 # 클러스터 분산\n",
    "# Pi = np.array([0.4 , 0.8, 1])\n",
    "# for n in range(N):\n",
    "#     wk = np.random.rand()\n",
    "#     for k in range(K):# 0,1,2\n",
    "#         if wk < Pi[k]: # 데이터에 해당하는 랜덤난수가 pi보다 작으면 1\n",
    "#             T3[n, k] = 1\n",
    "#             print()\n",
    "#             print(\"n:{}, cluster:{}\".format(n,k))\n",
    "#             break\n",
    "#     print(\"T3:\",T3[n,])\n",
    "#     for k in range(2): # 0,1\n",
    "#         X[n, k] = (np.random.randn() * Sig[T3[n, :] == 1, k] # t3값 1에 해당하는 index 그 index값의 0,1값\n",
    "#                    + Mu[T3[n, :] == 1, k])\n",
    "#         print(\"rand:{} * Sig:{} + Mu:{}\".format((X[n, k] - Mu[T3[n, :] == 1, k]) / Sig[T3[n, :] == 1, k],\n",
    "#                                                 Sig[T3[n, :] == 1, k],\n",
    "#                                                 Mu[T3[n, :] == 1, k]))\n",
    "#         print(\"X[{},{}]\".format(n,k),X[n, k])"
   ]
  },
  {
   "cell_type": "markdown",
   "id": "d60420f6",
   "metadata": {},
   "source": [
    "### SECTION.02 K-means 기법"
   ]
  },
  {
   "cell_type": "code",
   "execution_count": 5,
   "id": "f3fe7905",
   "metadata": {
    "scrolled": true
   },
   "outputs": [
    {
     "data": {
      "image/png": "[encoded data removed]",
      "text/plain": [
       "<Figure size 288x288 with 1 Axes>"
      ]
     },
     "metadata": {
      "needs_background": "light"
     },
     "output_type": "display_data"
    }
   ],
   "source": [
    "# -------------------- 리스트 9-1-(3)\n",
    "# 데이터 그리는 함수\n",
    "def show_prm(x, r, mu, col):\n",
    "    for k in range(K):\n",
    "        # 데이터 분포 묘사하기\n",
    "        plt.plot(x[r[:, k] == 1, 0], x[r[:, k] == 1, 1],\n",
    "                marker = 'o', markerfacecolor = X_col[k], markeredgecolor='k',\n",
    "                markersize = 6, alpha = 0.5, linestyle = 'none')\n",
    "        # 데이터의 평균을 '별표'로 묘사하기\n",
    "        plt.plot(mu[k, 0], mu[k, 1], marker = '*', # 마커 모양\n",
    "                markerfacecolor = X_col[k], markersize = 15, # 마커 내부 색, 마커의 크기\n",
    "                markeredgecolor = 'k', markeredgewidth = 1) # 마커 윤곽선 색, 마커 테두리 두께\n",
    "    plt.xlim(X_range0)\n",
    "    plt.ylim(X_range1)\n",
    "    plt.grid(True)\n",
    "plt.figure(figsize=(4,4))\n",
    "R = np.c_[np.ones((N,1)), np.zeros((N, 2))]\n",
    "## np.c_ 두 개의 1차원 배열을 칼럼으로 세로로 붙여서 2차원 배열 만들기\n",
    "show_prm(X, R, Mu, X_col)\n",
    "plt.title('initial Mu and R')\n",
    "plt.show()"
   ]
  },
  {
   "cell_type": "code",
   "execution_count": 6,
   "id": "c976295d",
   "metadata": {},
   "outputs": [],
   "source": [
    "# r 정하기\n",
    "def step1_kmeans(x0, x1, mu):\n",
    "    N = len(x0)\n",
    "    r = np.zeros((N, K))\n",
    "    for n in range(N):\n",
    "        wk = np.zeros(K)\n",
    "        for k in range(K):\n",
    "            wk[k] = (x0[n] - mu[k, 0])**2 + (x1[n] - mu[k, 1])**2\n",
    "        r[n, np.argmin(wk)] = 1\n",
    "    return r    "
   ]
  },
  {
   "cell_type": "code",
   "execution_count": 7,
   "id": "d8d986d8",
   "metadata": {
    "scrolled": true
   },
   "outputs": [
    {
     "data": {
      "image/png": "[encoded data removed]",
      "text/plain": [
       "<Figure size 288x288 with 1 Axes>"
      ]
     },
     "metadata": {
      "needs_background": "light"
     },
     "output_type": "display_data"
    }
   ],
   "source": [
    "plt.figure(figsize=(4,4))\n",
    "R = step1_kmeans(X[:,0], X[:, 1], Mu)\n",
    "show_prm(X, R, Mu, X_col)\n",
    "plt.title('Step 1')\n",
    "plt.show()"
   ]
  },
  {
   "cell_type": "code",
   "execution_count": 8,
   "id": "c210853e",
   "metadata": {},
   "outputs": [
    {
     "data": {
      "image/png": "[encoded data removed]",
      "text/plain": [
       "<Figure size 720x468 with 6 Axes>"
      ]
     },
     "metadata": {
      "needs_background": "light"
     },
     "output_type": "display_data"
    }
   ],
   "source": [
    "def step2_kmeans(x0, x1, r):\n",
    "    mu = np.zeros((K, 2))\n",
    "    for k in range(K):\n",
    "        mu[k, 0] = np.sum(r[:, k] * x0)/ np.sum(r[:, k])\n",
    "        mu[k, 1] = np.sum(r[:, k] * x1)/ np.sum(r[:, k])\n",
    "    return mu\n",
    "\n",
    "plt.figure(1, figsize = (10, 6.5))\n",
    "Mu = np.array([[-2, 1], [-2, 0], [-2, -1]])\n",
    "max_it = 6 # 반복 횟수\n",
    "for it in range(0, max_it):\n",
    "    plt.subplot(2, 3, it + 1)\n",
    "    R = step1_kmeans(X[:, 0], X[:, 1], Mu)\n",
    "    show_prm(X, R, Mu, X_col)\n",
    "    plt.title(\"{0:d}\".format(it + 1))\n",
    "    plt.xticks(range(X_range0[0], X_range0[1]), \"\")\n",
    "    plt.yticks(range(X_range1[0], X_range0[1]), \"\")\n",
    "    Mu = step2_kmeans(X[:, 0], X[:, 1], R)\n",
    "plt.show()"
   ]
  },
  {
   "cell_type": "code",
   "execution_count": 9,
   "id": "fd1f58eb",
   "metadata": {},
   "outputs": [
    {
     "data": {
      "text/plain": [
       "771.7091170334878"
      ]
     },
     "execution_count": 9,
     "metadata": {},
     "output_type": "execute_result"
    }
   ],
   "source": [
    "# 목적 함수\n",
    "def distortion_measure(x0, x1, r, mu):\n",
    "    # 입력은 2차원으로 제한하고 있음.\n",
    "    N = len(x0)\n",
    "    J = 0\n",
    "    for n in range(N):\n",
    "        for k in range(K\n",
    "                      ):\n",
    "            J = J + r[n, k] * ((x0[n] - mu[k, 0])**2\n",
    "                              +(x1[n] - mu[k, 1])**2)\n",
    "    return J\n",
    "# test\n",
    "# Mu와 R의 초기화\n",
    "Mu = np.array([[-2, 1], [-2, 0], [-2, -1]])\n",
    "R = np.c_[np.ones((N, 1), dtype=int), np.zeros((N,2), dtype=int)]\n",
    "distortion_measure(X[:,0], X[:,1], R, Mu)"
   ]
  },
  {
   "cell_type": "code",
   "execution_count": 10,
   "id": "55d0d6e6",
   "metadata": {
    "scrolled": true
   },
   "outputs": [
    {
     "name": "stdout",
     "output_type": "stream",
     "text": [
      "[627.54  73.39  70.39  57.59  48.31  47.28  46.86  46.86  46.86  46.86]\n"
     ]
    },
    {
     "data": {
      "image/png": "[encoded data removed]",
      "text/plain": [
       "<Figure size 288x288 with 1 Axes>"
      ]
     },
     "metadata": {
      "needs_background": "light"
     },
     "output_type": "display_data"
    }
   ],
   "source": [
    "# Mu와 R의 초기화\n",
    "N = X.shape[0]\n",
    "K = 3\n",
    "Mu = np.array([[-2,1], [-2,0], [-2, -1]])\n",
    "R = np.c_[np.ones((N,1), dtype = int), np.zeros((N, 2), dtype = int)]\n",
    "max_it = 10\n",
    "it = 0\n",
    "DM = np.zeros(max_it) # 왜곡 척도의 계산 결과 넣기\n",
    "for it in range(0, max_it):\n",
    "    R = step1_kmeans(X[:,0], X[:,1], Mu)\n",
    "    DM[it] = distortion_measure(X[:,0], X[:, 1], R, Mu) # 왜곡 척도\n",
    "    Mu = step2_kmeans(X[:,0], X[:,1], R)\n",
    "print(np.round(DM, 2))\n",
    "plt.figure(1, figsize=(4,4))\n",
    "plt.plot(DM, color = 'black', linestyle = '-', marker = 'o')\n",
    "plt.ylim(40, 80)\n",
    "plt.grid(True)\n",
    "plt.show()"
   ]
  },
  {
   "cell_type": "code",
   "execution_count": 11,
   "id": "5240d426",
   "metadata": {
    "scrolled": false
   },
   "outputs": [
    {
     "name": "stdout",
     "output_type": "stream",
     "text": [
      "Once deleted, variables cannot be recovered. Proceed (y/[n])? y\n"
     ]
    }
   ],
   "source": [
    "%reset #%reset : 모든 변수 삭제"
   ]
  },
  {
   "cell_type": "markdown",
   "id": "5b84d6ea",
   "metadata": {},
   "source": [
    "### SECTION.03 가우시안 혼합 모델"
   ]
  },
  {
   "cell_type": "code",
   "execution_count": 12,
   "id": "8a25a35f",
   "metadata": {},
   "outputs": [],
   "source": [
    "# ----------------- 리스트 9-2-(1)\n",
    "import numpy as np\n",
    "wk = np.load('data_ch9.npz') # SECTION.01 2차원 입력 데이터 불러오기\n",
    "X = wk['X']\n",
    "X_range0 = wk['X_range0']\n",
    "X_range1 = wk['X_range1']"
   ]
  },
  {
   "cell_type": "code",
   "execution_count": 13,
   "id": "1d0018dc",
   "metadata": {},
   "outputs": [],
   "source": [
    "# ----------------- 리스트 9-2-(2)\n",
    "# 가우스 함수 -----------------------------\n",
    "def gauss(x, mu, sigma):\n",
    "    N, D = x.shape\n",
    "    c1 = 1 / (2 * np.pi)**(D / 2) ## numpy.pi : 원주율 = 3.1415926535897932384626433\n",
    "    c2 = 1 / (np.linalg.det(sigma)**(1 / 2)) ## np.linalg.det(x) : 행렬식(역행렬의 존재여부, 없으면 0)\n",
    "    inv_sigma = np.linalg.inv(sigma) ## np.linalg.inv(x) : 역행렬\n",
    "    c3 = x - mu\n",
    "    c4 = np.dot(c3, inv_sigma) ## np.dot(a, b) a와 b의 내적\n",
    "    c5 = np.zeros(N)\n",
    "    for d in range(D):\n",
    "        c5 = c5 + c4[:, d] * c3[:, d]\n",
    "    p = c1 * c2 * np.exp(-c5 / 2) ## np.exp() : 자연로그 e의()승\n",
    "    return p"
   ]
  },
  {
   "cell_type": "code",
   "execution_count": 20,
   "id": "5f53657a",
   "metadata": {
    "scrolled": true
   },
   "outputs": [],
   "source": [
    "# x = np.array([[1,1],\n",
    "#             [2,2],\n",
    "#             [3,3]])\n",
    "\n",
    "# N, D = x.shape\n",
    "# x.shape\n",
    "# # print(D)"
   ]
  },
  {
   "cell_type": "code",
   "execution_count": 40,
   "id": "63049c20",
   "metadata": {
    "scrolled": true
   },
   "outputs": [],
   "source": [
    "# x = np.array([[1,3],[2,1],[3,4]])\n",
    "# mu = np.array([1,2])\n",
    "# x-mu"
   ]
  },
  {
   "cell_type": "code",
   "execution_count": 42,
   "id": "fcb5ac89",
   "metadata": {},
   "outputs": [],
   "source": [
    "# np.zeros(2)"
   ]
  },
  {
   "cell_type": "code",
   "execution_count": null,
   "id": "04ace451",
   "metadata": {},
   "outputs": [],
   "source": [
    "# ----------------- 리스트 9-2-(2)\n",
    "# 가우스 함수 -----------------------------\n",
    "def gauss(x, mu, sigma):\n",
    "    N, D = x.shape # (3, 2)\n",
    "    c1 = 1 / (2 * np.pi)**(D / 2) # 1 / 2pi\n",
    "    c2 = 1 / (np.linalg.det(sigma)**(1 / 2)) # 1 / sqrt(행렬식(sigma)) ad - bc 1 * 1 - 0 * 0\n",
    "    inv_sigma =  sigma.T # np.linalg.inv(sigma) # sigma 역행렬 \n",
    "    c3 = x - mu\n",
    "    c4 = np.dot(c3, inv_sigma)\n",
    "    c5 = np.zeros(N)\n",
    "    for d in range(D):\n",
    "        c5 = c5 + c4[:, d] * c3[:, d]\n",
    "    p = c1 * c2 * np.exp(-c5 / 2)\n",
    "    return p"
   ]
  },
  {
   "cell_type": "code",
   "execution_count": null,
   "id": "d020cfaa",
   "metadata": {},
   "outputs": [],
   "source": [
    "# ----------------- 리스트 9-2-(3)\n",
    "x = np.array([[1, 2], [2, 1], [3, 4]])\n",
    "mu = np.array([1, 2])\n",
    "sigma = np.array([[1, 0], [0, 1]])\n",
    "print(gauss(x, mu, sigma))"
   ]
  },
  {
   "cell_type": "code",
   "execution_count": 14,
   "id": "d0e0a83f",
   "metadata": {},
   "outputs": [
    {
     "name": "stdout",
     "output_type": "stream",
     "text": [
      "[0.15915494 0.05854983 0.00291502]\n"
     ]
    }
   ],
   "source": [
    "# ----------------- 리스트 9-2-(3)\n",
    "x = np.array([[1, 2], [2, 1], [3, 4]])\n",
    "mu = np.array([1, 2])\n",
    "sigma = np.array([[1, 0], [0, 1]])\n",
    "print(gauss(x, mu, sigma))"
   ]
  },
  {
   "cell_type": "code",
   "execution_count": 15,
   "id": "474f6db0",
   "metadata": {},
   "outputs": [],
   "source": [
    "# ----------------- 리스트 9-2-(4)\n",
    "# 혼합 가우시안 모델 ----------------------\n",
    "def mixgauss(x, pi, mu, sigma):\n",
    "    N, D = x.shape\n",
    "    K = len(pi)\n",
    "    p = np.zeros(N)\n",
    "    for k in range(K):\n",
    "        p = p + pi[k] * gauss(x, mu[k, :], sigma[k, :, :])\n",
    "    return p"
   ]
  },
  {
   "cell_type": "code",
   "execution_count": null,
   "id": "e8ce76ec",
   "metadata": {},
   "outputs": [],
   "source": [
    "# ------------ 리스트 9-2-(5)\n",
    "# test -------------------------------\n",
    "x = np.array([[1, 2], [2, 2], [3, 4]])\n",
    "pi = np.array([0.3, 0.7])\n",
    "mu = np.array([[1, 1], [2, 2]])\n",
    "sigma = np.array([[[1, 0], [0, 1]], [[2, 0], [0, 1]]])\n",
    "print(mixgauss(x, pi, mu, sigma))"
   ]
  },
  {
   "cell_type": "code",
   "execution_count": null,
   "id": "f59c4bb4",
   "metadata": {},
   "outputs": [],
   "source": [
    "# ----------------- 리스트 9-2-(6)\n",
    "import matplotlib.pyplot as plt\n",
    "from mpl_toolkits.mplot3d import axes3d\n",
    "%matplotlib inline\n",
    "# 혼합 가우스 등고선 표시 ----------------------\n",
    "def show_contour_mixgauss(pi, mu, sigma):\n",
    "    xn = 40 # 등고선 표시 해상도\n",
    "    x0 = np.linspace(X_range0[0], X_range0[1], xn)\n",
    "    x1 = np.linspace(X_range1[0], X_range1[1], xn)\n",
    "    xx0, xx1 = np.meshgrid(x0, x1)\n",
    "    x = np.c_[np.reshape(xx0, xn * xn, 1), np.reshape(xx1, xn * xn, 1)]\n",
    "    f = mixgauss(x, pi, mu, sigma)\n",
    "    f = f.reshape(xn, xn)\n",
    "    f = f.T\n",
    "    plt.contour(x0, x1, f, 10, colors='gray')\n",
    "\n",
    "\n",
    "# 혼합 가우스 3D 표시 ---------------------------\n",
    "def show3d_mixgauss(ax, pi, mu, sigma):\n",
    "    xn = 40 # 등고선 표시 해상도\n",
    "    x0 = np.linspace(X_range0[0], X_range0[1], xn)\n",
    "    x1 = np.linspace(X_range1[0], X_range1[1], xn)\n",
    "    xx0, xx1 = np.meshgrid(x0, x1)\n",
    "    x = np.c_[np.reshape(xx0, xn * xn, 1), np.reshape(xx1, xn * xn, 1)]\n",
    "    f = mixgauss(x, pi, mu, sigma)\n",
    "    f = f.reshape(xn, xn)\n",
    "    f = f.T\n",
    "    ax.plot_surface(xx0, xx1, f, rstride=2, cstride=2, alpha=0.3,\n",
    "                    color='blue', edgecolor='black')"
   ]
  },
  {
   "cell_type": "code",
   "execution_count": null,
   "id": "ffc2a997",
   "metadata": {},
   "outputs": [],
   "source": [
    "# ------------ 리스트 9-2-(7)\n",
    "# test -----------------------------------\n",
    "pi = np.array([0.2, 0.4, 0.4])\n",
    "mu = np.array([[-2, -2], [-1, 1], [1.5, 1]])\n",
    "sigma = np.array(\n",
    "    [[[.5, 0], [0, .5]], [[1, 0.25], [0.25, .5]], [[.5, 0], [0, .5]]])\n",
    "\n",
    "\n",
    "Fig = plt.figure(1, figsize=(8, 3.5))\n",
    "Fig.add_subplot(1, 2, 1)\n",
    "show_contour_mixgauss(pi, mu, sigma)\n",
    "plt.grid(True)\n",
    "\n",
    "\n",
    "Ax = Fig.add_subplot(1, 2, 2, projection='3d')\n",
    "show3d_mixgauss(Ax, pi, mu, sigma)\n",
    "Ax.set_zticks([0.05, 0.10])\n",
    "Ax.set_xlabel('$x_0$', fontsize=14)\n",
    "Ax.set_ylabel('$x_1$', fontsize=14)\n",
    "Ax.view_init(40, -100)\n",
    "plt.xlim(X_range0)\n",
    "plt.ylim(X_range1)\n",
    "plt.show()"
   ]
  },
  {
   "cell_type": "code",
   "execution_count": null,
   "id": "daafa662",
   "metadata": {},
   "outputs": [],
   "source": [
    "# ----------------- 리스트 9-2-(8)\n",
    "# 초기 설정 ------------------------------------\n",
    "N = X.shape[0]\n",
    "K = 3\n",
    "Pi = np.array([0.33, 0.33, 0.34])\n",
    "Mu = np.array([[-2, 1], [-2, 0], [-2, -1]])\n",
    "Sigma = np.array([[[1, 0], [0, 1]], [[1, 0], [0, 1]], [[1, 0], [0, 1]]])\n",
    "Gamma = np.c_[np.ones((N, 1)), np.zeros((N, 2))]\n",
    "\n",
    "\n",
    "X_col=np.array([[0.4, 0.6, 0.95], [1, 1, 1], [0, 0, 0]])\n",
    "\n",
    "\n",
    "# 데이터를 그리기 ------------------------------\n",
    "def show_mixgauss_prm(x, gamma, pi, mu, sigma):\n",
    "    N, D = x.shape\n",
    "    show_contour_mixgauss(pi, mu, sigma)\n",
    "    for n in range(N):\n",
    "        col=gamma[n,0]*X_col[0]+gamma[n,1]*X_col[1]+gamma[n,2]*X_col[2]\n",
    "        plt.plot(x[n, 0], x[n, 1], 'o',\n",
    "                 color=tuple(col), markeredgecolor='black',\n",
    "                 markersize=6, alpha=0.5)\n",
    "    for k in range(K):\n",
    "        plt.plot(mu[k, 0], mu[k, 1], marker='*',\n",
    "                 markerfacecolor=tuple(X_col[k]), markersize=15,\n",
    "                 markeredgecolor='k', markeredgewidth=1)\n",
    "        \n",
    "        \n",
    "    plt.grid(True)\n",
    "\n",
    "\n",
    "plt.figure(1, figsize=(4, 4))\n",
    "show_mixgauss_prm(X, Gamma, Pi, Mu, Sigma)\n",
    "plt.show()"
   ]
  },
  {
   "cell_type": "code",
   "execution_count": null,
   "id": "fc716970",
   "metadata": {},
   "outputs": [],
   "source": [
    "# ----------------- 리스트 9-2-(9)\n",
    "# gamma 갱신 (E Step) -------------------\n",
    "def e_step_mixgauss(x, pi, mu, sigma):\n",
    "    N, D = x.shape\n",
    "    K = len(pi)\n",
    "    y = np.zeros((N, K))\n",
    "    for k in range(K):\n",
    "        y[:, k] = gauss(x, mu[k, :], sigma[k, :, :]) # KxN\n",
    "    gamma = np.zeros((N, K))\n",
    "    for n in range(N):\n",
    "        wk = np.zeros(K)\n",
    "        for k in range(K):\n",
    "            wk[k] = pi[k] * y[n, k]\n",
    "        gamma[n, :] = wk / np.sum(wk)\n",
    "    return gamma\n",
    "\n",
    "\n",
    "# 메인 ----------------------------------\n",
    "Gamma = e_step_mixgauss(X, Pi, Mu, Sigma)"
   ]
  },
  {
   "cell_type": "code",
   "execution_count": null,
   "id": "48780526",
   "metadata": {},
   "outputs": [],
   "source": [
    "# -------------- 리스트 9-2-(10)\n",
    "# 표시 ----------------------------------\n",
    "plt.figure(1, figsize=(4, 4))\n",
    "show_mixgauss_prm(X, Gamma, Pi, Mu, Sigma)\n",
    "plt.show()"
   ]
  },
  {
   "cell_type": "code",
   "execution_count": null,
   "id": "81abfa69",
   "metadata": {},
   "outputs": [],
   "source": [
    "# ----------------- 리스트 9-2-(11)\n",
    "# Pi, Mu, Sigma 갱신 (M step) ------------\n",
    "def m_step_mixgauss(x, gamma):\n",
    "    N, D = x.shape\n",
    "    N, K = gamma.shape\n",
    "    # pi를 계산\n",
    "    pi = np.sum(gamma, axis=0) / N\n",
    "    # mu을 계산\n",
    "    mu = np.zeros((K, D))\n",
    "    for k in range(K):\n",
    "        for d in range(D):\n",
    "            mu[k, d] = np.dot(gamma[:, k], x[:, d]) / np.sum(gamma[:, k])\n",
    "    # sigma를 계산\n",
    "    sigma = np.zeros((K, D, D))\n",
    "    for k in range(K):\n",
    "        for n in range(N):\n",
    "            wk = x - mu[k, :]\n",
    "            wk = wk[n, :, np.newaxis]\n",
    "            sigma[k, :, :] = sigma[k, :, :] + gamma[n, k] * np.dot(wk, wk.T)\n",
    "        sigma[k, :, :] = sigma[k, :, :] / np.sum(gamma[:, k])\n",
    "    return pi, mu, sigma\n",
    "\n",
    "\n",
    "# 메인 ----------------------------------\n",
    "Pi, Mu, Sigma = m_step_mixgauss(X, Gamma)"
   ]
  },
  {
   "cell_type": "code",
   "execution_count": null,
   "id": "feab4349",
   "metadata": {},
   "outputs": [],
   "source": [
    "# ----------------- 리스트 9-2-(12)\n",
    "# 표시 ----------------------------------\n",
    "plt.figure(1, figsize=(4, 4))\n",
    "show_mixgauss_prm(X, Gamma, Pi, Mu, Sigma)\n",
    "plt.show()"
   ]
  },
  {
   "cell_type": "code",
   "execution_count": null,
   "id": "bac4930a",
   "metadata": {},
   "outputs": [],
   "source": [
    "# ----------------- 리스트 9-2-(13)\n",
    "Pi = np.array([0.3, 0.3, 0.4])\n",
    "Mu = np.array([[2, 2], [-2, 0], [2, -2]])\n",
    "Sigma = np.array([[[1, 0], [0, 1]], [[1, 0], [0, 1]], [[1, 0], [0, 1]]])\n",
    "Gamma = np.c_[np.ones((N, 1)), np.zeros((N, 2))]\n",
    "plt.figure(1, figsize=(10, 6.5))\n",
    "max_it = 20 # 반복 횟수\n",
    "\n",
    "\n",
    "i_subplot=1;\n",
    "for it in range(0, max_it):\n",
    "    Gamma = e_step_mixgauss(X, Pi, Mu, Sigma)\n",
    "    if it<4 or it>17:\n",
    "        plt.subplot(2, 3, i_subplot)\n",
    "        show_mixgauss_prm(X, Gamma, Pi, Mu, Sigma)\n",
    "        plt.title(\"{0:d}\".format(it + 1))\n",
    "        plt.xticks(range(X_range0[0], X_range0[1]), \"\")\n",
    "        plt.yticks(range(X_range1[0], X_range1[1]), \"\")\n",
    "        i_subplot=i_subplot+1\n",
    "    Pi, Mu, Sigma = m_step_mixgauss(X, Gamma)\n",
    "plt.show()"
   ]
  },
  {
   "cell_type": "code",
   "execution_count": null,
   "id": "3a11ca97",
   "metadata": {},
   "outputs": [],
   "source": [
    "# ----------------- 리스트 9-2-(14)\n",
    "# 혼합 가우스의 목적 함수 ----------------------\n",
    "def nlh_mixgauss(x, pi, mu, sigma):\n",
    "    # x: NxD\n",
    "    # pi: Kx1\n",
    "    # mu: KxD\n",
    "    # sigma: KxDxD\n",
    "    # output lh: NxK\n",
    "    N, D = x.shape\n",
    "    K = len(pi)\n",
    "    y = np.zeros((N, K))\n",
    "    for k in range(K):\n",
    "        y[:, k] = gauss(x, mu[k, :], sigma[k, :, :]) # KxN\n",
    "    lh = 0\n",
    "    for n in range(N):\n",
    "        wk = 0\n",
    "        for k in range(K):\n",
    "            wk = wk + pi[k] * y[n, k]\n",
    "        lh = lh + np.log(wk)\n",
    "    return -lh"
   ]
  }
 ],
 "metadata": {
  "kernelspec": {
   "display_name": "Python 3",
   "language": "python",
   "name": "python3"
  },
  "language_info": {
   "codemirror_mode": {
    "name": "ipython",
    "version": 3
   },
   "file_extension": ".py",
   "mimetype": "text/x-python",
   "name": "python",
   "nbconvert_exporter": "python",
   "pygments_lexer": "ipython3",
   "version": "3.8.9"
  }
 },
 "nbformat": 4,
 "nbformat_minor": 5
}

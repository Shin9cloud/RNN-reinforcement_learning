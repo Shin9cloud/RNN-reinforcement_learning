{
 "cells": [
  {
   "cell_type": "markdown",
   "id": "310ae9d9",
   "metadata": {},
   "source": [
    "### 7.2 AR, MA, ARMA, ARIMA"
   ]
  },
  {
   "cell_type": "code",
   "execution_count": 1,
   "id": "4f8c2a86",
   "metadata": {
    "scrolled": true
   },
   "outputs": [
    {
     "name": "stdout",
     "output_type": "stream",
     "text": [
      "Requirement already satisfied: statsmodels in c:\\users\\ad\\appdata\\local\\programs\\python\\python38\\lib\\site-packages (0.12.2)\n",
      "Requirement already satisfied: patsy>=0.5 in c:\\users\\ad\\appdata\\local\\programs\\python\\python38\\lib\\site-packages (from statsmodels) (0.5.1)\n",
      "Requirement already satisfied: numpy>=1.15 in c:\\users\\ad\\appdata\\local\\programs\\python\\python38\\lib\\site-packages (from statsmodels) (1.19.5)\n",
      "Requirement already satisfied: pandas>=0.21 in c:\\users\\ad\\appdata\\local\\programs\\python\\python38\\lib\\site-packages (from statsmodels) (1.2.4)\n",
      "Requirement already satisfied: scipy>=1.1 in c:\\users\\ad\\appdata\\local\\programs\\python\\python38\\lib\\site-packages (from statsmodels) (1.6.2)\n",
      "Requirement already satisfied: pytz>=2017.3 in c:\\users\\ad\\appdata\\local\\programs\\python\\python38\\lib\\site-packages (from pandas>=0.21->statsmodels) (2021.1)\n",
      "Requirement already satisfied: python-dateutil>=2.7.3 in c:\\users\\ad\\appdata\\local\\programs\\python\\python38\\lib\\site-packages (from pandas>=0.21->statsmodels) (2.8.1)\n",
      "Requirement already satisfied: six in c:\\users\\ad\\appdata\\local\\programs\\python\\python38\\lib\\site-packages (from patsy>=0.5->statsmodels) (1.15.0)\n",
      "Note: you may need to restart the kernel to use updated packages.\n"
     ]
    },
    {
     "name": "stderr",
     "output_type": "stream",
     "text": [
      "WARNING: You are using pip version 21.1.1; however, version 21.1.2 is available.\n",
      "You should consider upgrading via the 'c:\\users\\ad\\appdata\\local\\programs\\python\\python38\\python.exe -m pip install --upgrade pip' command.\n"
     ]
    }
   ],
   "source": [
    "!pip install statsmodels"
   ]
  },
  {
   "cell_type": "code",
   "execution_count": 4,
   "id": "dd36d6d1",
   "metadata": {},
   "outputs": [
    {
     "name": "stderr",
     "output_type": "stream",
     "text": [
      "<ipython-input-4-74c446333994>:2: FutureWarning: The pandas.datetime class is deprecated and will be removed from pandas in a future version. Import from datetime module instead.\n",
      "  from pandas import datetime\n",
      "c:\\users\\ad\\appdata\\local\\programs\\python\\python38\\lib\\site-packages\\statsmodels\\tsa\\arima_model.py:472: FutureWarning: \n",
      "statsmodels.tsa.arima_model.ARMA and statsmodels.tsa.arima_model.ARIMA have\n",
      "been deprecated in favor of statsmodels.tsa.arima.model.ARIMA (note the .\n",
      "between arima and model) and\n",
      "statsmodels.tsa.SARIMAX. These will be removed after the 0.12 release.\n",
      "\n",
      "statsmodels.tsa.arima.model.ARIMA makes use of the statespace framework and\n",
      "is both well tested and maintained.\n",
      "\n",
      "To silence this warning and continue using ARMA and ARIMA until they are\n",
      "removed, use:\n",
      "\n",
      "import warnings\n",
      "warnings.filterwarnings('ignore', 'statsmodels.tsa.arima_model.ARMA',\n",
      "                        FutureWarning)\n",
      "warnings.filterwarnings('ignore', 'statsmodels.tsa.arima_model.ARIMA',\n",
      "                        FutureWarning)\n",
      "\n",
      "  warnings.warn(ARIMA_DEPRECATION_WARN, FutureWarning)\n",
      "c:\\users\\ad\\appdata\\local\\programs\\python\\python38\\lib\\site-packages\\statsmodels\\tsa\\base\\tsa_model.py:524: ValueWarning: No frequency information was provided, so inferred frequency MS will be used.\n",
      "  warnings.warn('No frequency information was'\n",
      "c:\\users\\ad\\appdata\\local\\programs\\python\\python38\\lib\\site-packages\\statsmodels\\tsa\\base\\tsa_model.py:524: ValueWarning: No frequency information was provided, so inferred frequency MS will be used.\n",
      "  warnings.warn('No frequency information was'\n"
     ]
    },
    {
     "name": "stdout",
     "output_type": "stream",
     "text": [
      "                             ARIMA Model Results                              \n",
      "==============================================================================\n",
      "Dep. Variable:                D.Sales   No. Observations:                   35\n",
      "Model:                 ARIMA(5, 1, 0)   Log Likelihood                -197.350\n",
      "Method:                       css-mle   S.D. of innovations             66.436\n",
      "Date:                Wed, 09 Jun 2021   AIC                            408.699\n",
      "Time:                        10:22:26   BIC                            419.587\n",
      "Sample:                    02-01-1991   HQIC                           412.458\n",
      "                         - 12-01-1993                                         \n",
      "=================================================================================\n",
      "                    coef    std err          z      P>|z|      [0.025      0.975]\n",
      "---------------------------------------------------------------------------------\n",
      "const            12.4256      3.774      3.292      0.001       5.028      19.823\n",
      "ar.L1.D.Sales    -1.0850      0.188     -5.764      0.000      -1.454      -0.716\n",
      "ar.L2.D.Sales    -0.6688      0.283     -2.365      0.018      -1.223      -0.114\n",
      "ar.L3.D.Sales    -0.4426      0.297     -1.489      0.136      -1.025       0.140\n",
      "ar.L4.D.Sales    -0.0495      0.288     -0.172      0.864      -0.614       0.515\n",
      "ar.L5.D.Sales     0.1652      0.197      0.840      0.401      -0.220       0.551\n",
      "                                    Roots                                    \n",
      "=============================================================================\n",
      "                  Real          Imaginary           Modulus         Frequency\n",
      "-----------------------------------------------------------------------------\n",
      "AR.1           -1.1401           -0.4612j            1.2298           -0.4388\n",
      "AR.2           -1.1401           +0.4612j            1.2298            0.4388\n",
      "AR.3            0.0222           -1.2562j            1.2564           -0.2472\n",
      "AR.4            0.0222           +1.2562j            1.2564            0.2472\n",
      "AR.5            2.5355           -0.0000j            2.5355           -0.0000\n",
      "-----------------------------------------------------------------------------\n"
     ]
    },
    {
     "data": {
      "image/png": "[encoded data removed]",
      "text/plain": [
       "<Figure size 432x288 with 1 Axes>"
      ]
     },
     "metadata": {
      "needs_background": "light"
     },
     "output_type": "display_data"
    },
    {
     "data": {
      "image/png": "[encoded data removed]",
      "text/plain": [
       "<Figure size 432x288 with 1 Axes>"
      ]
     },
     "metadata": {
      "needs_background": "light"
     },
     "output_type": "display_data"
    },
    {
     "name": "stdout",
     "output_type": "stream",
     "text": [
      "                0\n",
      "count   35.000000\n",
      "mean    -5.569232\n",
      "std     70.272668\n",
      "min   -132.525599\n",
      "25%    -45.563774\n",
      "50%    -20.763454\n",
      "75%     39.933216\n",
      "max    163.552155\n"
     ]
    }
   ],
   "source": [
    "from pandas import read_csv\n",
    "from pandas import datetime\n",
    "from pandas import DataFrame\n",
    "from statsmodels.tsa.arima_model import ARIMA\n",
    "from matplotlib import pyplot\n",
    "\n",
    "def parser(x):\n",
    "    return datetime.strptime('199'+x, '%Y-%m')\n",
    "\n",
    "series = read_csv('./sales.csv', header=0, parse_dates=[0], index_col =0,\n",
    "                  squeeze= True, date_parser=parser)\n",
    "model = ARIMA(series, order=(5,1,0))\n",
    "model_fit = model.fit(disp=0)\n",
    "print(model_fit.summary())\n",
    "residuals = DataFrame(model_fit.resid)\n",
    "residuals.plot()\n",
    "pyplot.show()\n",
    "residuals.plot(kind='kde')\n",
    "pyplot.show()\n",
    "print(residuals.describe())"
   ]
  },
  {
   "cell_type": "code",
   "execution_count": 6,
   "id": "f017b727",
   "metadata": {
    "scrolled": true
   },
   "outputs": [
    {
     "name": "stderr",
     "output_type": "stream",
     "text": [
      "<ipython-input-6-fd94791f8971>:3: FutureWarning: The pandas.datetime class is deprecated and will be removed from pandas in a future version. Import from datetime module instead.\n",
      "  from pandas import datetime\n",
      "c:\\users\\ad\\appdata\\local\\programs\\python\\python38\\lib\\site-packages\\statsmodels\\tsa\\arima_model.py:472: FutureWarning: \n",
      "statsmodels.tsa.arima_model.ARMA and statsmodels.tsa.arima_model.ARIMA have\n",
      "been deprecated in favor of statsmodels.tsa.arima.model.ARIMA (note the .\n",
      "between arima and model) and\n",
      "statsmodels.tsa.SARIMAX. These will be removed after the 0.12 release.\n",
      "\n",
      "statsmodels.tsa.arima.model.ARIMA makes use of the statespace framework and\n",
      "is both well tested and maintained.\n",
      "\n",
      "To silence this warning and continue using ARMA and ARIMA until they are\n",
      "removed, use:\n",
      "\n",
      "import warnings\n",
      "warnings.filterwarnings('ignore', 'statsmodels.tsa.arima_model.ARMA',\n",
      "                        FutureWarning)\n",
      "warnings.filterwarnings('ignore', 'statsmodels.tsa.arima_model.ARIMA',\n",
      "                        FutureWarning)\n",
      "\n",
      "  warnings.warn(ARIMA_DEPRECATION_WARN, FutureWarning)\n"
     ]
    },
    {
     "name": "stdout",
     "output_type": "stream",
     "text": [
      "predicted=354.377768, expected=346.300000\n",
      "predicted=288.627340, expected=329.700000\n",
      "predicted=382.818015, expected=445.400000\n",
      "predicted=339.543926, expected=325.900000\n",
      "predicted=392.897294, expected=449.300000\n",
      "predicted=354.487933, expected=411.300000\n",
      "predicted=452.200113, expected=417.400000\n",
      "predicted=406.806136, expected=545.500000\n",
      "predicted=430.162179, expected=477.600000\n",
      "predicted=492.745351, expected=687.000000\n",
      "predicted=493.604496, expected=435.300000\n",
      "predicted=657.397165, expected=587.300000\n",
      "predicted=522.091249, expected=676.900000\n",
      "Test MSE: 8074.983\n"
     ]
    },
    {
     "data": {
      "image/png": "[encoded data removed]",
      "text/plain": [
       "<Figure size 432x288 with 1 Axes>"
      ]
     },
     "metadata": {
      "needs_background": "light"
     },
     "output_type": "display_data"
    }
   ],
   "source": [
    "import numpy as np\n",
    "from pandas import read_csv\n",
    "from pandas import datetime\n",
    "from matplotlib import pyplot\n",
    "from statsmodels.tsa.arima_model import ARIMA\n",
    "from sklearn.metrics import mean_squared_error\n",
    " \n",
    "def parser(x):\n",
    "    return datetime.strptime('199'+x, '%Y-%m')\n",
    " \n",
    "series = read_csv('./sales.csv', header=0, parse_dates=[0], index_col=0, squeeze=True, date_parser=parser)\n",
    "X = series.values\n",
    "X = np.nan_to_num(X)\n",
    "size = int(len(X) * 0.66)\n",
    "train, test = X[0:size], X[size:len(X)]\n",
    "history = [x for x in train]\n",
    "predictions = list()\n",
    "for t in range(len(test)):\n",
    "    model = ARIMA(history, order=(5,1,0))\n",
    "    model_fit = model.fit(disp=0)\n",
    "    output = model_fit.forecast()\n",
    "    yhat = output[0]\n",
    "    predictions.append(yhat)\n",
    "    obs = test[t]\n",
    "    history.append(obs)\n",
    "    print('predicted=%f, expected=%f' % (yhat, obs))\n",
    "error = mean_squared_error(test, predictions)\n",
    "print('Test MSE: %.3f' % error)\n",
    "pyplot.plot(test)\n",
    "pyplot.plot(predictions, color='red')\n",
    "pyplot.show()\n"
   ]
  },
  {
   "cell_type": "markdown",
   "id": "a158ccab",
   "metadata": {},
   "source": [
    "### 7.4 RNN 구조"
   ]
  },
  {
   "cell_type": "code",
   "execution_count": 7,
   "id": "bb6ca5b3",
   "metadata": {},
   "outputs": [],
   "source": [
    "import os\n",
    "os.environ['TF_CPP_MIN_LOG_LEVEL'] = \"2\"\n",
    "import tensorflow as tf\n",
    "import numpy as np\n",
    "from tensorflow import keras\n",
    "from tensorflow.keras import layers\n",
    "from tensorflow.keras.models import Sequential\n",
    "from tensorflow.keras.layers import Dense\n",
    "from tensorflow.keras.optimizers import Adam"
   ]
  },
  {
   "cell_type": "code",
   "execution_count": 8,
   "id": "31ccbfd5",
   "metadata": {},
   "outputs": [],
   "source": [
    "tf.random.set_seed(22)\n",
    "np.random.seed(22)\n",
    "assert tf.__version__.startswith('2.')\n",
    "\n",
    "batch_size = 128\n",
    "total_words = 10000\n",
    "max_review_len = 80\n",
    "embedding_len = 100"
   ]
  },
  {
   "cell_type": "code",
   "execution_count": 9,
   "id": "2350aa54",
   "metadata": {},
   "outputs": [
    {
     "name": "stdout",
     "output_type": "stream",
     "text": [
      "Downloading data from https://storage.googleapis.com/tensorflow/tf-keras-datasets/imdb.npz\n",
      "17465344/17464789 [==============================] - 1s 0us/step\n"
     ]
    },
    {
     "name": "stderr",
     "output_type": "stream",
     "text": [
      "<__array_function__ internals>:5: VisibleDeprecationWarning: Creating an ndarray from ragged nested sequences (which is a list-or-tuple of lists-or-tuples-or ndarrays with different lengths or shapes) is deprecated. If you meant to do this, you must specify 'dtype=object' when creating the ndarray\n",
      "c:\\users\\ad\\appdata\\local\\programs\\python\\python38\\lib\\site-packages\\tensorflow\\python\\keras\\datasets\\imdb.py:159: VisibleDeprecationWarning: Creating an ndarray from ragged nested sequences (which is a list-or-tuple of lists-or-tuples-or ndarrays with different lengths or shapes) is deprecated. If you meant to do this, you must specify 'dtype=object' when creating the ndarray\n",
      "  x_train, y_train = np.array(xs[:idx]), np.array(labels[:idx])\n",
      "c:\\users\\ad\\appdata\\local\\programs\\python\\python38\\lib\\site-packages\\tensorflow\\python\\keras\\datasets\\imdb.py:160: VisibleDeprecationWarning: Creating an ndarray from ragged nested sequences (which is a list-or-tuple of lists-or-tuples-or ndarrays with different lengths or shapes) is deprecated. If you meant to do this, you must specify 'dtype=object' when creating the ndarray\n",
      "  x_test, y_test = np.array(xs[idx:]), np.array(labels[idx:])\n"
     ]
    },
    {
     "name": "stdout",
     "output_type": "stream",
     "text": [
      "x_train_shape: (25000, 80) tf.Tensor(1, shape=(), dtype=int64) tf.Tensor(0, shape=(), dtype=int64)\n",
      "x_test_shape: (25000, 80)\n",
      "(128, 80)\n"
     ]
    }
   ],
   "source": [
    "(x_train, y_train), (x_test, y_test) = tf.keras.datasets.imdb.load_data(num_words=total_words)\n",
    "\n",
    "x_train = tf.keras.preprocessing.sequence.pad_sequences(x_train, maxlen=max_review_len)\n",
    "x_test = tf.keras.preprocessing.sequence.pad_sequences(x_test, maxlen=max_review_len)\n",
    "\n",
    "train_data = tf.data.Dataset.from_tensor_slices((x_train, y_train))\n",
    "train_data = train_data.shuffle(10000).batch(batch_size, drop_remainder=True)\n",
    "test_data = tf.data.Dataset.from_tensor_slices((x_test, y_test))\n",
    "test_data = test_data.batch(batch_size, drop_remainder=True)\n",
    "print('x_train_shape:', x_train.shape, tf.reduce_max(y_train), tf.reduce_min(y_train))\n",
    "print('x_test_shape:', x_test.shape)\n",
    "\n",
    "sample = next(iter(test_data))\n",
    "print(sample[0].shape)"
   ]
  },
  {
   "cell_type": "code",
   "execution_count": 10,
   "id": "507ed1f2",
   "metadata": {},
   "outputs": [],
   "source": [
    "class RNN_Build(tf.keras.Model):\n",
    "    def __init__(self, units): \n",
    "        super(RNN_Build, self).__init__()\n",
    "        \n",
    "        self.state0 = [tf.zeros([batch_size, units])]\n",
    "        self.state1 = [tf.zeros([batch_size, units])]\n",
    "        self.embedding = tf.keras.layers.Embedding(total_words, embedding_len, input_length=max_review_len)\n",
    "\n",
    "        self.RNNCell0 = tf.keras.layers.SimpleRNNCell(units, dropout=0.2)\n",
    "        self.RNNCell1 = tf.keras.layers.SimpleRNNCell(units, dropout=0.2)\n",
    "        self.outlayer = tf.keras.layers.Dense(1)\n",
    "        \n",
    "    def call(self, inputs, training=None):\n",
    "        x = inputs\n",
    "        x = self.embedding(x)\n",
    "        state0 = self.state0  \n",
    "        state1 = self.state1\n",
    "        for word in tf.unstack(x, axis=1):\n",
    "            out0, state0 = self.RNNCell0(word, state0, training)\n",
    "            out1, state1 = self.RNNCell1(out0, state1, training)\n",
    "        x = self.outlayer(out1)\n",
    "        prob = tf.sigmoid(x)\n",
    "        return prob"
   ]
  },
  {
   "cell_type": "code",
   "execution_count": 11,
   "id": "25879abb",
   "metadata": {},
   "outputs": [
    {
     "name": "stdout",
     "output_type": "stream",
     "text": [
      "Epoch 1/4\n",
      "195/195 [==============================] - 9s 23ms/step - loss: 0.6849 - accuracy: 0.5365\n",
      "Epoch 2/4\n",
      "195/195 [==============================] - 7s 37ms/step - loss: 0.3785 - accuracy: 0.8384 - val_loss: 0.4064 - val_accuracy: 0.8224\n",
      "Epoch 3/4\n",
      "195/195 [==============================] - 4s 22ms/step - loss: 0.1992 - accuracy: 0.9268\n",
      "Epoch 4/4\n",
      "195/195 [==============================] - 5s 28ms/step - loss: 0.0858 - accuracy: 0.9711 - val_loss: 0.6795 - val_accuracy: 0.7970\n"
     ]
    },
    {
     "data": {
      "text/plain": [
       "<tensorflow.python.keras.callbacks.History at 0x29adf8a1ac0>"
      ]
     },
     "execution_count": 11,
     "metadata": {},
     "output_type": "execute_result"
    }
   ],
   "source": [
    "import time\n",
    "units = 64\n",
    "epochs = 4\n",
    "t0 = time.time()\n",
    "\n",
    "model = RNN_Build(units) \n",
    "model.compile(optimizer=tf.keras.optimizers.Adam(0.001),\n",
    "              loss=tf.losses.BinaryCrossentropy(),\n",
    "              metrics=['accuracy'],\n",
    "              experimental_run_tf_function=False)\n",
    "    \n",
    "model.fit(train_data, epochs=epochs, validation_data=test_data, validation_freq=2)"
   ]
  },
  {
   "cell_type": "code",
   "execution_count": 12,
   "id": "82be4173",
   "metadata": {},
   "outputs": [
    {
     "name": "stdout",
     "output_type": "stream",
     "text": [
      "훈련 데이터셋 평가...\n",
      "loss=0.0260, accuracy: 99.3550%\n",
      "테스트 데이터셋 평가...\n",
      "loss=0.6795, accuracy: 79.7035%\n",
      "시간: 1038.47718167305\n"
     ]
    }
   ],
   "source": [
    "print(\"훈련 데이터셋 평가...\")\n",
    "(loss, accuracy) = model.evaluate(train_data, verbose=0)\n",
    "print(\"loss={:.4f}, accuracy: {:.4f}%\".format(loss,accuracy * 100))\n",
    "print(\"테스트 데이터셋 평가...\")\n",
    "(loss, accuracy) = model.evaluate(test_data, verbose=0)\n",
    "print(\"loss={:.4f}, accuracy: {:.4f}%\".format(loss,accuracy * 100))\n",
    "t1 = time.time()\n",
    "print('시간:', t1-t0)"
   ]
  },
  {
   "cell_type": "code",
   "execution_count": 13,
   "id": "a4bd923d",
   "metadata": {},
   "outputs": [],
   "source": [
    "class RNN_Build(tf.keras.Model):\n",
    "    def __init__(self, units):\n",
    "        super(RNN_Build, self).__init__()\n",
    "        self.embedding = tf.keras.layers.Embedding(total_words, embedding_len, input_length=max_review_len)\n",
    "\n",
    "        self.rnn = tf.keras.Sequential([\n",
    "            tf.keras.layers.SimpleRNN(units, dropout=0.5, return_sequences=True),\n",
    "            tf.keras.layers.SimpleRNN(units, dropout=0.5)\n",
    "        ])\n",
    "        self.outlayer = tf.keras.layers.Dense(1)\n",
    "\n",
    "    def call(self, inputs, training=None):\n",
    "        x = inputs\n",
    "        x = self.embedding(x)\n",
    "        x = self.rnn(x)\n",
    "        x = self.outlayer(x)\n",
    "        prob = tf.sigmoid(x)\n",
    "\n",
    "        return prob"
   ]
  },
  {
   "cell_type": "code",
   "execution_count": 14,
   "id": "44f6f72f",
   "metadata": {
    "scrolled": true
   },
   "outputs": [
    {
     "name": "stdout",
     "output_type": "stream",
     "text": [
      "Epoch 1/4\n",
      "195/195 [==============================] - 10s 46ms/step - loss: 0.6331 - accuracy: 0.6122\n",
      "Epoch 2/4\n",
      "195/195 [==============================] - 12s 62ms/step - loss: 0.3641 - accuracy: 0.8446 - val_loss: 0.3933 - val_accuracy: 0.8316\n",
      "Epoch 3/4\n",
      "195/195 [==============================] - 9s 47ms/step - loss: 0.2870 - accuracy: 0.8866\n",
      "Epoch 4/4\n",
      "195/195 [==============================] - 11s 58ms/step - loss: 0.2365 - accuracy: 0.9094 - val_loss: 0.5131 - val_accuracy: 0.8210\n"
     ]
    },
    {
     "data": {
      "text/plain": [
       "<tensorflow.python.keras.callbacks.History at 0x29ae1381f70>"
      ]
     },
     "execution_count": 14,
     "metadata": {},
     "output_type": "execute_result"
    }
   ],
   "source": [
    "import time\n",
    "units = 64\n",
    "epochs = 4\n",
    "t0 = time.time()\n",
    "\n",
    "model = RNN_Build(units)\n",
    "    \n",
    "model.compile(optimizer=tf.keras.optimizers.Adam(0.001),\n",
    "              loss=tf.losses.BinaryCrossentropy(),\n",
    "              metrics=['accuracy'],\n",
    "              experimental_run_tf_function=False)\n",
    "    \n",
    "model.fit(train_data, epochs=epochs, validation_data=test_data, validation_freq=2)"
   ]
  },
  {
   "cell_type": "code",
   "execution_count": 15,
   "id": "4eb21262",
   "metadata": {
    "scrolled": false
   },
   "outputs": [
    {
     "name": "stdout",
     "output_type": "stream",
     "text": [
      "훈련 데이터셋 평가...\n",
      "loss=0.1411, accuracy: 94.6554%\n",
      "테스트 데이터셋 평가...\n",
      "loss=0.5131, accuracy: 82.0994%\n",
      "시간: 342.2487027645111\n"
     ]
    }
   ],
   "source": [
    "print(\"훈련 데이터셋 평가...\")\n",
    "(loss, accuracy) = model.evaluate(train_data, verbose=0)\n",
    "print(\"loss={:.4f}, accuracy: {:.4f}%\".format(loss,accuracy * 100))\n",
    "print(\"테스트 데이터셋 평가...\")\n",
    "(loss, accuracy) = model.evaluate(test_data, verbose=0)\n",
    "print(\"loss={:.4f}, accuracy: {:.4f}%\".format(loss,accuracy * 100))\n",
    "\n",
    "t1 = time.time()\n",
    "print('시간:', t1-t0)"
   ]
  },
  {
   "cell_type": "markdown",
   "id": "4fcf283e",
   "metadata": {},
   "source": [
    "### 7.5 LSTM"
   ]
  },
  {
   "cell_type": "code",
   "execution_count": 16,
   "id": "78456435",
   "metadata": {},
   "outputs": [],
   "source": [
    "class LSTM_Build(tf.keras.Model):\n",
    "    def __init__(self, units):\n",
    "        super(LSTM_Build, self).__init__()\n",
    "\n",
    "        self.state0 = [tf.zeros([batch_size, units]), tf.zeros([batch_size, units])]\n",
    "        self.state1 = [tf.zeros([batch_size, units]), tf.zeros([batch_size, units])]\n",
    "\n",
    "        self.embedding = tf.keras.layers.Embedding(total_words, embedding_len, input_length=max_review_len)\n",
    "        self.RNNCell0 = tf.keras.layers.LSTMCell(units, dropout=0.5)\n",
    "        self.RNNCell1 = tf.keras.layers.LSTMCell(units, dropout=0.5)\n",
    "        self.outlayer = tf.keras.layers.Dense(1)\n",
    "\n",
    "    def call(self, inputs, training=None):\n",
    "\n",
    "        x = inputs\n",
    "        x = self.embedding(x)\n",
    "        state0 = self.state0\n",
    "        state1 = self.state1\n",
    "        for word in tf.unstack(x, axis=1):    \n",
    "\n",
    "            out0, state0 = self.RNNCell0(word, state0, training)\n",
    "            out1, state1 = self.RNNCell1(out0, state1, training)\n",
    "\n",
    "        x = self.outlayer(out1)\n",
    "        prob = tf.sigmoid(x)\n",
    "        return prob"
   ]
  },
  {
   "cell_type": "code",
   "execution_count": 17,
   "id": "cbb96ac0",
   "metadata": {},
   "outputs": [
    {
     "name": "stdout",
     "output_type": "stream",
     "text": [
      "Epoch 1/4\n",
      "195/195 [==============================] - 24s 68ms/step - loss: 0.5740 - accuracy: 0.6707\n",
      "Epoch 2/4\n",
      "195/195 [==============================] - 20s 101ms/step - loss: 0.3142 - accuracy: 0.8716 - val_loss: 0.3617 - val_accuracy: 0.8397\n",
      "Epoch 3/4\n",
      "195/195 [==============================] - 14s 70ms/step - loss: 0.2539 - accuracy: 0.8986\n",
      "Epoch 4/4\n",
      "195/195 [==============================] - 18s 92ms/step - loss: 0.2250 - accuracy: 0.9139 - val_loss: 0.4071 - val_accuracy: 0.8243\n"
     ]
    },
    {
     "data": {
      "text/plain": [
       "<tensorflow.python.keras.callbacks.History at 0x29adae7e160>"
      ]
     },
     "execution_count": 17,
     "metadata": {},
     "output_type": "execute_result"
    }
   ],
   "source": [
    "import time\n",
    "units = 64\n",
    "epochs = 4\n",
    "t0 = time.time()\n",
    "\n",
    "model = LSTM_Build(units)\n",
    "    \n",
    "model.compile(optimizer=tf.keras.optimizers.Adam(0.001),\n",
    "              loss=tf.losses.BinaryCrossentropy(),\n",
    "              metrics=['accuracy'],\n",
    "              experimental_run_tf_function=False)\n",
    "    \n",
    "model.fit(train_data, epochs=epochs, validation_data=test_data, validation_freq=2)"
   ]
  },
  {
   "cell_type": "code",
   "execution_count": 18,
   "id": "ba004a06",
   "metadata": {},
   "outputs": [
    {
     "name": "stdout",
     "output_type": "stream",
     "text": [
      "훈련 데이터셋 평가...\n",
      "loss=0.1755, accuracy: 93.8301%\n",
      "테스트 데이터셋 평가...\n",
      "loss=0.4071, accuracy: 82.4319%\n",
      "시간: 2539.803699731827\n"
     ]
    }
   ],
   "source": [
    "print(\"훈련 데이터셋 평가...\")\n",
    "(loss, accuracy) = model.evaluate(train_data, verbose=0)\n",
    "print(\"loss={:.4f}, accuracy: {:.4f}%\".format(loss,accuracy * 100))\n",
    "print(\"테스트 데이터셋 평가...\")\n",
    "(loss, accuracy) = model.evaluate(test_data, verbose=0)\n",
    "print(\"loss={:.4f}, accuracy: {:.4f}%\".format(loss,accuracy * 100))\n",
    "\n",
    "t1 = time.time()\n",
    "print('시간:', t1-t0)"
   ]
  },
  {
   "cell_type": "code",
   "execution_count": 19,
   "id": "fb06615c",
   "metadata": {},
   "outputs": [],
   "source": [
    "class LSTM_Build(tf.keras.Model):\n",
    "\n",
    "    def __init__(self, units):\n",
    "        super(LSTM_Build, self).__init__()\n",
    "\n",
    "        self.embedding = tf.keras.layers.Embedding(total_words, embedding_len, input_length=max_review_len)\n",
    "        self.rnn = tf.keras.Sequential([\n",
    "            tf.keras.layers.LSTM(units, dropout=0.5, return_sequences=True, unroll=True),\n",
    "            tf.keras.layers.LSTM(units, dropout=0.5, unroll=True)\n",
    "        ])\n",
    "        self.outlayer = tf.keras.layers.Dense(1)\n",
    "\n",
    "    def call(self, inputs, training=None):\n",
    "        x = inputs\n",
    "        x = self.embedding(x)\n",
    "        x = self.rnn(x)\n",
    "\n",
    "        x = self.outlayer(x)\n",
    "        prob = tf.sigmoid(x)\n",
    "        return prob"
   ]
  },
  {
   "cell_type": "code",
   "execution_count": 20,
   "id": "cd0b184f",
   "metadata": {},
   "outputs": [
    {
     "name": "stdout",
     "output_type": "stream",
     "text": [
      "Epoch 1/4\n",
      "195/195 [==============================] - 28s 82ms/step - loss: 0.5802 - accuracy: 0.6555\n",
      "Epoch 2/4\n",
      "195/195 [==============================] - 25s 126ms/step - loss: 0.3212 - accuracy: 0.8669 - val_loss: 0.3646 - val_accuracy: 0.8386\n",
      "Epoch 3/4\n",
      "195/195 [==============================] - 16s 82ms/step - loss: 0.2526 - accuracy: 0.9014\n",
      "Epoch 4/4\n",
      "195/195 [==============================] - 22s 113ms/step - loss: 0.2114 - accuracy: 0.9227 - val_loss: 0.3959 - val_accuracy: 0.8353\n"
     ]
    },
    {
     "data": {
      "text/plain": [
       "<tensorflow.python.keras.callbacks.History at 0x29a88a15a60>"
      ]
     },
     "execution_count": 20,
     "metadata": {},
     "output_type": "execute_result"
    }
   ],
   "source": [
    "import time\n",
    "units = 64\n",
    "epochs = 4\n",
    "t0 = time.time()\n",
    "\n",
    "model = LSTM_Build(units)\n",
    "    \n",
    "model.compile(optimizer=tf.keras.optimizers.Adam(0.001),\n",
    "              loss=tf.losses.BinaryCrossentropy(),\n",
    "              metrics=['accuracy'],\n",
    "              experimental_run_tf_function=False)\n",
    "    \n",
    "model.fit(train_data, epochs=epochs, validation_data=test_data, validation_freq=2)"
   ]
  },
  {
   "cell_type": "code",
   "execution_count": 21,
   "id": "74580e8d",
   "metadata": {},
   "outputs": [
    {
     "name": "stdout",
     "output_type": "stream",
     "text": [
      "훈련 데이터셋 평가...\n",
      "loss=0.1434, accuracy: 95.6370%\n",
      "테스트 데이터셋 평가...\n",
      "loss=0.3959, accuracy: 83.5256%\n",
      "시간: 5640.792975664139\n"
     ]
    }
   ],
   "source": [
    "print(\"훈련 데이터셋 평가...\")\n",
    "(loss, accuracy) = model.evaluate(train_data, verbose=0)\n",
    "print(\"loss={:.4f}, accuracy: {:.4f}%\".format(loss,accuracy * 100))\n",
    "print(\"테스트 데이터셋 평가...\")\n",
    "(loss, accuracy) = model.evaluate(test_data, verbose=0)\n",
    "print(\"loss={:.4f}, accuracy: {:.4f}%\".format(loss,accuracy * 100))\n",
    "\n",
    "t1 = time.time()\n",
    "print('시간:', t1-t0)"
   ]
  },
  {
   "cell_type": "markdown",
   "id": "d616dfbb",
   "metadata": {},
   "source": [
    "### 7.6 게이트 순환 신경망(GRU)"
   ]
  },
  {
   "cell_type": "code",
   "execution_count": 22,
   "id": "c1116869",
   "metadata": {},
   "outputs": [],
   "source": [
    "class GRU_Build(tf.keras.Model):\n",
    "\n",
    "    def __init__(self, units):\n",
    "        super(GRU_Build, self).__init__()\n",
    "\n",
    "        self.state0 = [tf.zeros([batch_size, units])]\n",
    "        self.state1 = [tf.zeros([batch_size, units])]\n",
    "\n",
    "        self.embedding = tf.keras.layers.Embedding(total_words, embedding_len, input_length=max_review_len)\n",
    "        self.RNNCell0 = tf.keras.layers.GRUCell(units, dropout=0.5)\n",
    "        self.RNNCell1 = tf.keras.layers.GRUCell(units, dropout=0.5)\n",
    "        self.outlayer = tf.keras.layers.Dense(1)\n",
    "\n",
    "    def call(self, inputs, training=None):\n",
    "        x = inputs\n",
    "        x = self.embedding(x)\n",
    "        state0 = self.state0\n",
    "        state1 = self.state1\n",
    "        for word in tf.unstack(x, axis=1):    \n",
    "            out0, state0 = self.RNNCell0(word, state0, training)   \n",
    "            out1, state1 = self.RNNCell1(out0, state1, training)\n",
    "        x = self.outlayer(out1)\n",
    "        prob = tf.sigmoid(x)\n",
    "\n",
    "        return prob"
   ]
  },
  {
   "cell_type": "code",
   "execution_count": 23,
   "id": "d1f2ee43",
   "metadata": {},
   "outputs": [
    {
     "name": "stdout",
     "output_type": "stream",
     "text": [
      "Epoch 1/4\n",
      "195/195 [==============================] - 25s 64ms/step - loss: 0.6135 - accuracy: 0.6210\n",
      "Epoch 2/4\n",
      "195/195 [==============================] - 21s 108ms/step - loss: 0.3336 - accuracy: 0.8575 - val_loss: 0.3792 - val_accuracy: 0.8375\n",
      "Epoch 3/4\n",
      "195/195 [==============================] - 13s 69ms/step - loss: 0.2694 - accuracy: 0.8913\n",
      "Epoch 4/4\n",
      "195/195 [==============================] - 18s 91ms/step - loss: 0.2379 - accuracy: 0.9073 - val_loss: 0.3830 - val_accuracy: 0.8355\n"
     ]
    },
    {
     "data": {
      "text/plain": [
       "<tensorflow.python.keras.callbacks.History at 0x29b0ee906a0>"
      ]
     },
     "execution_count": 23,
     "metadata": {},
     "output_type": "execute_result"
    }
   ],
   "source": [
    "import time\n",
    "units = 64\n",
    "epochs = 4\n",
    "t0 = time.time()\n",
    "\n",
    "model = GRU_Build(units)\n",
    "    \n",
    "model.compile(optimizer=tf.keras.optimizers.Adam(0.001),\n",
    "              loss=tf.losses.BinaryCrossentropy(),\n",
    "              metrics=['accuracy'],\n",
    "              experimental_run_tf_function=False)\n",
    "    \n",
    "model.fit(train_data, epochs=epochs, validation_data=test_data, validation_freq=2)"
   ]
  },
  {
   "cell_type": "code",
   "execution_count": 24,
   "id": "c1b61154",
   "metadata": {},
   "outputs": [
    {
     "name": "stdout",
     "output_type": "stream",
     "text": [
      "훈련 데이터셋 평가...\n",
      "loss=0.1760, accuracy: 94.3590%\n",
      "테스트 데이터셋 평가...\n",
      "loss=0.3830, accuracy: 83.5537%\n",
      "시간: 253.759850025177\n"
     ]
    }
   ],
   "source": [
    "print(\"훈련 데이터셋 평가...\")\n",
    "(loss, accuracy) = model.evaluate(train_data, verbose=0)\n",
    "print(\"loss={:.4f}, accuracy: {:.4f}%\".format(loss,accuracy * 100))\n",
    "print(\"테스트 데이터셋 평가...\")\n",
    "(loss, accuracy) = model.evaluate(test_data, verbose=0)\n",
    "print(\"loss={:.4f}, accuracy: {:.4f}%\".format(loss,accuracy * 100))\n",
    "\n",
    "t1 = time.time()\n",
    "print('시간:', t1-t0)"
   ]
  },
  {
   "cell_type": "code",
   "execution_count": 25,
   "id": "bf76e032",
   "metadata": {},
   "outputs": [],
   "source": [
    "class GRU_Build(tf.keras.Model):\n",
    "\n",
    "    def __init__(self, units):\n",
    "        super(GRU_Build, self).__init__()\n",
    "\n",
    "        self.embedding = tf.keras.layers.Embedding(total_words, embedding_len, input_length=max_review_len)\n",
    "        self.rnn = tf.keras.Sequential([\n",
    "            tf.keras.layers.GRU(units, dropout=0.5, return_sequences=True, unroll=True),\n",
    "            tf.keras.layers.GRU(units, dropout=0.5, unroll=True)\n",
    "        ])\n",
    "        self.outlayer = tf.keras.layers.Dense(1)\n",
    "\n",
    "    def call(self, inputs, training=None):\n",
    "\n",
    "        x = inputs\n",
    "        x = self.embedding(x)\n",
    "        x = self.rnn(x)\n",
    "        x = self.outlayer(x)\n",
    "        prob = tf.sigmoid(x)\n",
    "        return prob"
   ]
  },
  {
   "cell_type": "code",
   "execution_count": 26,
   "id": "5c3604b6",
   "metadata": {},
   "outputs": [
    {
     "name": "stdout",
     "output_type": "stream",
     "text": [
      "Epoch 1/4\n",
      "195/195 [==============================] - 44s 139ms/step - loss: 0.6176 - accuracy: 0.6231\n",
      "Epoch 2/4\n",
      "195/195 [==============================] - 38s 194ms/step - loss: 0.3125 - accuracy: 0.8705 - val_loss: 0.3625 - val_accuracy: 0.8390\n",
      "Epoch 3/4\n",
      "195/195 [==============================] - 27s 139ms/step - loss: 0.2620 - accuracy: 0.8955\n",
      "Epoch 4/4\n",
      "195/195 [==============================] - 36s 183ms/step - loss: 0.2138 - accuracy: 0.9211 - val_loss: 0.4011 - val_accuracy: 0.8328\n"
     ]
    },
    {
     "data": {
      "text/plain": [
       "<tensorflow.python.keras.callbacks.History at 0x29b25b5fd00>"
      ]
     },
     "execution_count": 26,
     "metadata": {},
     "output_type": "execute_result"
    }
   ],
   "source": [
    "import time\n",
    "units = 64\n",
    "epochs = 4\n",
    "t0 = time.time()\n",
    "\n",
    "model = GRU_Build(units)\n",
    "    \n",
    "model.compile(optimizer=tf.keras.optimizers.Adam(0.001),\n",
    "              loss=tf.losses.BinaryCrossentropy(),\n",
    "              metrics=['accuracy'],\n",
    "              experimental_run_tf_function=False)\n",
    "    \n",
    "model.fit(train_data, epochs=epochs, validation_data=test_data, validation_freq=2)"
   ]
  },
  {
   "cell_type": "code",
   "execution_count": 27,
   "id": "b8866a24",
   "metadata": {},
   "outputs": [
    {
     "name": "stdout",
     "output_type": "stream",
     "text": [
      "훈련 데이터셋 평가...\n",
      "loss=0.1444, accuracy: 95.3686%\n",
      "테스트 데이터셋 평가...\n",
      "loss=0.4011, accuracy: 83.2812%\n",
      "시간: 501.92745327949524\n"
     ]
    }
   ],
   "source": [
    "print(\"훈련 데이터셋 평가...\")\n",
    "(loss, accuracy) = model.evaluate(train_data, verbose=0)\n",
    "print(\"loss={:.4f}, accuracy: {:.4f}%\".format(loss,accuracy * 100))\n",
    "print(\"테스트 데이터셋 평가...\")\n",
    "(loss, accuracy) = model.evaluate(test_data, verbose=0)\n",
    "print(\"loss={:.4f}, accuracy: {:.4f}%\".format(loss,accuracy * 100))\n",
    "\n",
    "t1 = time.time()\n",
    "print('시간:', t1-t0)"
   ]
  },
  {
   "cell_type": "markdown",
   "id": "695f8775",
   "metadata": {},
   "source": [
    "### 7.8 양방향 RNN"
   ]
  },
  {
   "cell_type": "code",
   "execution_count": 28,
   "id": "1c2961eb",
   "metadata": {},
   "outputs": [
    {
     "name": "stdout",
     "output_type": "stream",
     "text": [
      "Epoch 1/4\n",
      "196/196 [==============================] - 147s 739ms/step - loss: 0.5563 - accuracy: 0.6835 - val_loss: 0.0000e+00 - val_accuracy: 0.0000e+00\n",
      "Epoch 2/4\n",
      "196/196 [==============================] - 138s 706ms/step - loss: 0.2420 - accuracy: 0.9109 - val_loss: 0.0000e+00 - val_accuracy: 0.0000e+00\n",
      "Epoch 3/4\n",
      "196/196 [==============================] - 139s 709ms/step - loss: 0.1610 - accuracy: 0.9450 - val_loss: 0.0000e+00 - val_accuracy: 0.0000e+00\n",
      "Epoch 4/4\n",
      "196/196 [==============================] - 141s 720ms/step - loss: 0.1236 - accuracy: 0.9592 - val_loss: 0.0000e+00 - val_accuracy: 0.0000e+00\n"
     ]
    },
    {
     "data": {
      "text/plain": [
       "<tensorflow.python.keras.callbacks.History at 0x29b3ff75820>"
      ]
     },
     "execution_count": 28,
     "metadata": {},
     "output_type": "execute_result"
    }
   ],
   "source": [
    "import numpy as np\n",
    "from tensorflow.keras.preprocessing import sequence\n",
    "from tensorflow.keras.models import Sequential\n",
    "from tensorflow.keras.layers import Dense, Dropout, Embedding, LSTM, Bidirectional\n",
    "from tensorflow.keras.optimizers import Adam\n",
    "from tensorflow.keras.datasets import imdb\n",
    "\n",
    "n_unique_words = 10000 \n",
    "maxlen = 200\n",
    "batch_size = 128\n",
    "\n",
    "(x_train, y_train), (x_test, y_test) = imdb.load_data(num_words=n_unique_words)\n",
    "x_train = sequence.pad_sequences(x_train, maxlen=maxlen)\n",
    "x_test = sequence.pad_sequences(x_test, maxlen=maxlen)\n",
    "y_train = np.array(y_train)\n",
    "y_test = np.array(y_test)\n",
    "\n",
    "model = Sequential()\n",
    "model.add(Embedding(n_unique_words, 128, input_length=maxlen))\n",
    "model.add(Bidirectional(LSTM(64)))\n",
    "model.add(Dropout(0.5))\n",
    "model.add(Dense(1, activation='sigmoid'))\n",
    "\n",
    "model.compile(loss='binary_crossentropy', optimizer='adam', metrics=['accuracy'])\n",
    "\n",
    "model.fit(x_train, y_train,\n",
    "          batch_size=batch_size,\n",
    "          epochs=4,\n",
    "          validation_data=[x_test, y_test])"
   ]
  },
  {
   "cell_type": "code",
   "execution_count": 29,
   "id": "7308b494",
   "metadata": {},
   "outputs": [
    {
     "name": "stdout",
     "output_type": "stream",
     "text": [
      "Model: \"sequential_3\"\n",
      "_________________________________________________________________\n",
      "Layer (type)                 Output Shape              Param #   \n",
      "=================================================================\n",
      "embedding_6 (Embedding)      (None, 200, 128)          1280000   \n",
      "_________________________________________________________________\n",
      "bidirectional (Bidirectional (None, 128)               98816     \n",
      "_________________________________________________________________\n",
      "dropout (Dropout)            (None, 128)               0         \n",
      "_________________________________________________________________\n",
      "dense_6 (Dense)              (None, 1)                 129       \n",
      "=================================================================\n",
      "Total params: 1,378,945\n",
      "Trainable params: 1,378,945\n",
      "Non-trainable params: 0\n",
      "_________________________________________________________________\n"
     ]
    }
   ],
   "source": [
    "model.summary()"
   ]
  },
  {
   "cell_type": "code",
   "execution_count": 30,
   "id": "edd44941",
   "metadata": {},
   "outputs": [
    {
     "name": "stdout",
     "output_type": "stream",
     "text": [
      "66/66 [==============================] - 17s 249ms/step - loss: 0.0870 - accuracy: 0.9722\n",
      "Training accuracy ['loss', 'accuracy'] 0.9721599817276001\n",
      "Training accuracy ['loss', 'accuracy'] 0.08702150732278824\n",
      "66/66 [==============================] - 17s 251ms/step - loss: 0.3949 - accuracy: 0.8616\n",
      "Testing accuracy ['loss', 'accuracy'] 0.8615999817848206\n",
      "Testing accuracy ['loss', 'accuracy'] 0.3949168622493744\n"
     ]
    }
   ],
   "source": [
    "loss, acc = model.evaluate(x_train, y_train, batch_size=384, verbose=1)\n",
    "print ('Training accuracy', model.metrics_names, acc)\n",
    "print ('Training accuracy', model.metrics_names, loss)\n",
    "loss, acc = model.evaluate(x_test, y_test, batch_size=384, verbose=1)\n",
    "print ('Testing accuracy', model.metrics_names, acc)\n",
    "print ('Testing accuracy', model.metrics_names, loss)"
   ]
  }
 ],
 "metadata": {
  "kernelspec": {
   "display_name": "Python 3",
   "language": "python",
   "name": "python3"
  },
  "language_info": {
   "codemirror_mode": {
    "name": "ipython",
    "version": 3
   },
   "file_extension": ".py",
   "mimetype": "text/x-python",
   "name": "python",
   "nbconvert_exporter": "python",
   "pygments_lexer": "ipython3",
   "version": "3.8.9"
  }
 },
 "nbformat": 4,
 "nbformat_minor": 5
}

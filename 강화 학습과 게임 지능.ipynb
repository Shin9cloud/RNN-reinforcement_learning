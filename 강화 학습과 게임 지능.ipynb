{
 "cells": [
  {
   "cell_type": "code",
   "execution_count": 7,
   "id": "77c0fa67",
   "metadata": {},
   "outputs": [
    {
     "data": {
      "text/html": [
       "<style>.container { width:100% !important; }</style>"
      ],
      "text/plain": [
       "<IPython.core.display.HTML object>"
      ]
     },
     "metadata": {},
     "output_type": "display_data"
    }
   ],
   "source": [
    "from IPython.core.display import display, HTML\n",
    "display(HTML(\"<style>.container { width:100% !important; }</style>\"))"
   ]
  },
  {
   "cell_type": "markdown",
   "id": "fcb15698",
   "metadata": {},
   "source": [
    "#### 9.1.1 다중 손잡이 밴딧 문제"
   ]
  },
  {
   "cell_type": "code",
   "execution_count": 94,
   "id": "ae2ae391",
   "metadata": {
    "scrolled": true
   },
   "outputs": [
    {
     "name": "stdout",
     "output_type": "stream",
     "text": [
      "손잡이별 승리 확률: ['0.3852', '0.1257', '0.5196', '0.5782', '0.2447']\n",
      "손잡이별 수익($): ['-452', '-1555', '77', '309', '-1027']\n",
      "순 수익($): -2648\n"
     ]
    }
   ],
   "source": [
    "import numpy as np\n",
    "\n",
    "# 다중 손잡이 밴딧 문제 설정\n",
    "arms_profit=[0.4, 0.12, 0.52, 0.6, 0.25]\n",
    "n_arms = len(arms_profit)\n",
    "\n",
    "n_trial = 10000 # 손잡이를 당기는 횟수(에피소드 길이)\n",
    "\n",
    "# 손잡이 당기는 행위를 시뮬레이션하는 함수 (handle은 손잡이 번호)\n",
    "def pull_bandit(handle):\n",
    "    q = np.random.random() # random() 함수는 0 이상 1 미만의 숫자 중에서 아무 숫자나 하나 뽑아서 돌려줌\n",
    "    if q < arms_profit[handle]:\n",
    "        return 1\n",
    "    else:\n",
    "        return -1\n",
    "\n",
    "# 랜덤 정책을 모방하는 함수\n",
    "def random_exploration():\n",
    "    episode = []\n",
    "    num = np.zeros(n_arms)    # 손잡이별로 당긴 횟수\n",
    "    wins = np.zeros(n_arms)    # 손잡이별로 승리 횟수\n",
    "    for i in range(n_trial):\n",
    "        h = np.random.randint(0,n_arms) # 0 ~ 4 까지 랜덤한 정수 반환\n",
    "        reward = pull_bandit(h) # -> 1 or -1 반환\n",
    "        episode.append([h,reward])\n",
    "        num[h]+=1\n",
    "        wins[h]+=1 if reward ==1 else 0 #if 조건 만족하면 +1, 아니면 +0\n",
    "    return episode, (num, wins)\n",
    "\n",
    "e,r = random_exploration()\n",
    "\n",
    "print(\"손잡이별 승리 확률:\", [\"%6.4f\"%(r[1][i]/r[0][i]) if r[0][i]>0 else 0.0 for i in range(n_arms)])\n",
    "print(\"손잡이별 수익($):\",[\"%d\"% (2*r[1][i]-r[0][i]) for i in range(n_arms)])\n",
    "print('순 수익($):',sum(np.asarray(e)[:,1]))\n",
    "# np.asarray : 입력 데이터를 ndarray로 변환하나 이미 ndarray일 경우에는 새로 메모리에 ndarray가 생성되지는 않음"
   ]
  },
  {
   "cell_type": "code",
   "execution_count": 95,
   "id": "6743e2d8",
   "metadata": {
    "scrolled": false
   },
   "outputs": [],
   "source": [
    "# print(n_arms)\n",
    "# print(np.zeros(n_arms))\n",
    "# print(np.random.randint(0,n_arms))\n",
    "# print(np.random.random())\n",
    "\n",
    "# b = []\n",
    "# b.append([1, 1])\n",
    "# b.append([2, 2])\n",
    "# print(b)\n",
    "\n",
    "# a = np.zeros(n_arms)\n",
    "# a[1] +=1\n",
    "# print(a)\n",
    "\n",
    "# c = np.zeros(n_arms)\n",
    "# c[1] +=1\n",
    "# print(a)\n",
    "\n",
    "# d = [1, 2]\n",
    "# np.asarray(d)"
   ]
  },
  {
   "cell_type": "code",
   "execution_count": 103,
   "id": "e01d022d",
   "metadata": {
    "scrolled": true
   },
   "outputs": [
    {
     "name": "stdout",
     "output_type": "stream",
     "text": [
      "손잡이별 승리 확률: ['0.4055', '0.1113', '0.5103', '0.5900', '0.2364']\n",
      "손잡이별 수익($): ['-411', '-517', '55', '569', '-698']\n",
      "순 수익($): -1002\n"
     ]
    }
   ],
   "source": [
    "# ε-탐욕을 구현하는 함수\n",
    "def epsilon_greedy(eps):\n",
    "    episode = []\n",
    "    num = np.zeros(n_arms)    # 손잡이별로 당긴 횟수\n",
    "    wins = np.zeros(n_arms)    # 손잡이별로 승리 횟수\n",
    "    for i in range(n_trial):\n",
    "        r = np.random.random()\n",
    "        if (r < eps or sum(wins) == 0): # 확률 eps로 임의 선택\n",
    "            h = np.random.randint(0, n_arms) # 0 ~ 4\n",
    "        else:\n",
    "            prob = np.asarray([wins[i]/num[i] if num[i] >0 else 0.0 # 해당 손잡이의 승리횟수/시행횟수를 배열로 반환\n",
    "                               for i in range(n_arms)]) # 0 ~ 4\n",
    "            prob = prob / sum(prob) # 각 손잡이별 확률\n",
    "            h = np.random.choice(range(n_arms), p = prob) # prob개 중에서 range(n_arms)개를 뽑아냄\n",
    "        reward = pull_bandit(h)\n",
    "        episode.append([h, reward])\n",
    "        num[h] += 1\n",
    "        wins[h] +=1 if reward ==1 else 0\n",
    "    return episode, (num, wins)\n",
    "\n",
    "e, r = epsilon_greedy(0.1)\n",
    "\n",
    "print(\"손잡이별 승리 확률:\", [\"%6.4f\"% (r[1][i] / r[0][i])\n",
    "                      if r[0][i]>0 else 0.0 for i in range(n_arms)])\n",
    "print(\"손잡이별 수익($):\",[\"%d\"% (2* r[1][i] -r[0][i]) for i in range(n_arms)])\n",
    "print(\"순 수익($):\", sum(np.asarray(e)[:,1]))"
   ]
  },
  {
   "cell_type": "code",
   "execution_count": 108,
   "id": "478c16ed",
   "metadata": {
    "scrolled": true
   },
   "outputs": [
    {
     "name": "stdout",
     "output_type": "stream",
     "text": [
      "15\n"
     ]
    },
    {
     "data": {
      "text/plain": [
       "array([0.06666667, 0.13333333, 0.2       , 0.26666667, 0.33333333])"
      ]
     },
     "execution_count": 108,
     "metadata": {},
     "output_type": "execute_result"
    }
   ],
   "source": [
    "e = [1,2,3,4,5]\n",
    "e[4]\n",
    "\n",
    "print(sum(e))\n",
    "f = np.asarray(e)\n",
    "f/ sum(e)\n"
   ]
  },
  {
   "cell_type": "code",
   "execution_count": null,
   "id": "f97159e6",
   "metadata": {},
   "outputs": [],
   "source": [
    "import gym\n",
    "\n",
    "# 환경 불러오기\n",
    "env = gym.mak"
   ]
  }
 ],
 "metadata": {
  "kernelspec": {
   "display_name": "Python 3",
   "language": "python",
   "name": "python3"
  },
  "language_info": {
   "codemirror_mode": {
    "name": "ipython",
    "version": 3
   },
   "file_extension": ".py",
   "mimetype": "text/x-python",
   "name": "python",
   "nbconvert_exporter": "python",
   "pygments_lexer": "ipython3",
   "version": "3.8.9"
  }
 },
 "nbformat": 4,
 "nbformat_minor": 5
}
